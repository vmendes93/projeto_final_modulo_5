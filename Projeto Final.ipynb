{
 "cells": [
  {
   "cell_type": "markdown",
   "id": "a4dbfc68",
   "metadata": {
    "id": "a4dbfc68"
   },
   "source": [
    "# Módulo 5 - Técnicas de Programação II | Python\n",
    "\n",
    "## Projeto Final - História das Olimpíadas"
   ]
  },
  {
   "cell_type": "markdown",
   "id": "65064ba3",
   "metadata": {
    "id": "65064ba3"
   },
   "source": [
    "Este projeto consiste em uma análise de dados históricos dos jogos olímpicos.\n",
    "\n",
    "Utilize qualquer uma das bibliotecas estudadas (```matplotlib```, ```seaborn``` e ```plotly```) para realizar as atividades propostas. Não há problema em usar apenas uma para realizar todas as atividades, nem em utilizar cada uma delas em uma atividade diferente - siga suas preferências pessoais!\n",
    "\n",
    "Utilize os (muitos) parâmetros permitidos por cada função e/ou atributos dos objetos fornecidos pelas bibliotecas para criar uma identidade visual coesa para ser utilizada em todo o projeto. Use títulos, legendas e rótulos nos eixos para deixar os gráficos verdadeiramente informativos. E não se esqueça que a simples escolha das cores a serem utilizadas pode tornar os gráficos ainda mais interessantes!"
   ]
  },
  {
   "cell_type": "markdown",
   "id": "18fbd6d8",
   "metadata": {
    "id": "18fbd6d8"
   },
   "source": [
    "## Metadados:\n",
    "\n",
    "O arquivo ```athlete_events.csv``` contém 271116 linhas e 15 colunas. Cada linha corresponde a um indivíduo (atleta) que competiu em um evento olímpico individual. Veja a descrição das 15 colunas, a seguir:\n",
    "\n",
    "- **ID:** Valor único para cada atleta\n",
    "- **Name:** Nome do atleta\n",
    "- **Sex:** Gênero do atleta (M para masculino e F para feminino)\n",
    "- **Age:** Idade do atleta no momento da competição\n",
    "- **Height:** Altura do atleta, em centímetros\n",
    "- **Weight:** Peso do atleta, em kg\n",
    "- **Team:** Nome do time\n",
    "- **NOC:** National Olympic Committee (código de 3 letras)\n",
    "- **Games:** Ano e temporada dos jogos\n",
    "- **Year:** Ano dos jogos\n",
    "- **Season:** Temporada dos jogos (summer para verão e winter para inverno)\n",
    "- **City:** Cidade em que ocorreu os jogos\n",
    "- **Sport:** Esporte praticado pelo atleta\n",
    "- **Event:** Categoria/modalidade da competição\n",
    "- **Medal:** Medalha adquirida: Gold (ouro), Silver (prata), Bronze ou NA"
   ]
  },
  {
   "cell_type": "markdown",
   "id": "d3e5d956",
   "metadata": {},
   "source": [
    "Fazendo os imports básicos para o projeto:"
   ]
  },
  {
   "cell_type": "code",
   "execution_count": 1,
   "id": "14730a4a",
   "metadata": {
    "id": "14730a4a"
   },
   "outputs": [],
   "source": [
    "import numpy as np\n",
    "import pandas as pd\n",
    "import seaborn as sns\n",
    "import plotly.express as px\n",
    "import matplotlib.pyplot as plt\n",
    "%matplotlib inline\n"
   ]
  },
  {
   "cell_type": "markdown",
   "id": "bb9f8de1",
   "metadata": {},
   "source": [
    "Verificando os dados do *dataset*"
   ]
  },
  {
   "cell_type": "code",
   "execution_count": 2,
   "id": "cd6ea2a6",
   "metadata": {},
   "outputs": [
    {
     "data": {
      "text/html": [
       "<div>\n",
       "<style scoped>\n",
       "    .dataframe tbody tr th:only-of-type {\n",
       "        vertical-align: middle;\n",
       "    }\n",
       "\n",
       "    .dataframe tbody tr th {\n",
       "        vertical-align: top;\n",
       "    }\n",
       "\n",
       "    .dataframe thead th {\n",
       "        text-align: right;\n",
       "    }\n",
       "</style>\n",
       "<table border=\"1\" class=\"dataframe\">\n",
       "  <thead>\n",
       "    <tr style=\"text-align: right;\">\n",
       "      <th></th>\n",
       "      <th>ID</th>\n",
       "      <th>Name</th>\n",
       "      <th>Sex</th>\n",
       "      <th>Age</th>\n",
       "      <th>Height</th>\n",
       "      <th>Weight</th>\n",
       "      <th>Team</th>\n",
       "      <th>NOC</th>\n",
       "      <th>Games</th>\n",
       "      <th>Year</th>\n",
       "      <th>Season</th>\n",
       "      <th>City</th>\n",
       "      <th>Sport</th>\n",
       "      <th>Event</th>\n",
       "      <th>Medal</th>\n",
       "    </tr>\n",
       "  </thead>\n",
       "  <tbody>\n",
       "    <tr>\n",
       "      <th>0</th>\n",
       "      <td>1</td>\n",
       "      <td>A Dijiang</td>\n",
       "      <td>M</td>\n",
       "      <td>24.0</td>\n",
       "      <td>180.0</td>\n",
       "      <td>80.0</td>\n",
       "      <td>China</td>\n",
       "      <td>CHN</td>\n",
       "      <td>1992 Summer</td>\n",
       "      <td>1992</td>\n",
       "      <td>Summer</td>\n",
       "      <td>Barcelona</td>\n",
       "      <td>Basketball</td>\n",
       "      <td>Basketball Men's Basketball</td>\n",
       "      <td>NaN</td>\n",
       "    </tr>\n",
       "    <tr>\n",
       "      <th>1</th>\n",
       "      <td>2</td>\n",
       "      <td>A Lamusi</td>\n",
       "      <td>M</td>\n",
       "      <td>23.0</td>\n",
       "      <td>170.0</td>\n",
       "      <td>60.0</td>\n",
       "      <td>China</td>\n",
       "      <td>CHN</td>\n",
       "      <td>2012 Summer</td>\n",
       "      <td>2012</td>\n",
       "      <td>Summer</td>\n",
       "      <td>London</td>\n",
       "      <td>Judo</td>\n",
       "      <td>Judo Men's Extra-Lightweight</td>\n",
       "      <td>NaN</td>\n",
       "    </tr>\n",
       "    <tr>\n",
       "      <th>2</th>\n",
       "      <td>3</td>\n",
       "      <td>Gunnar Nielsen Aaby</td>\n",
       "      <td>M</td>\n",
       "      <td>24.0</td>\n",
       "      <td>NaN</td>\n",
       "      <td>NaN</td>\n",
       "      <td>Denmark</td>\n",
       "      <td>DEN</td>\n",
       "      <td>1920 Summer</td>\n",
       "      <td>1920</td>\n",
       "      <td>Summer</td>\n",
       "      <td>Antwerpen</td>\n",
       "      <td>Football</td>\n",
       "      <td>Football Men's Football</td>\n",
       "      <td>NaN</td>\n",
       "    </tr>\n",
       "    <tr>\n",
       "      <th>3</th>\n",
       "      <td>4</td>\n",
       "      <td>Edgar Lindenau Aabye</td>\n",
       "      <td>M</td>\n",
       "      <td>34.0</td>\n",
       "      <td>NaN</td>\n",
       "      <td>NaN</td>\n",
       "      <td>Denmark/Sweden</td>\n",
       "      <td>DEN</td>\n",
       "      <td>1900 Summer</td>\n",
       "      <td>1900</td>\n",
       "      <td>Summer</td>\n",
       "      <td>Paris</td>\n",
       "      <td>Tug-Of-War</td>\n",
       "      <td>Tug-Of-War Men's Tug-Of-War</td>\n",
       "      <td>Gold</td>\n",
       "    </tr>\n",
       "    <tr>\n",
       "      <th>4</th>\n",
       "      <td>5</td>\n",
       "      <td>Christine Jacoba Aaftink</td>\n",
       "      <td>F</td>\n",
       "      <td>21.0</td>\n",
       "      <td>185.0</td>\n",
       "      <td>82.0</td>\n",
       "      <td>Netherlands</td>\n",
       "      <td>NED</td>\n",
       "      <td>1988 Winter</td>\n",
       "      <td>1988</td>\n",
       "      <td>Winter</td>\n",
       "      <td>Calgary</td>\n",
       "      <td>Speed Skating</td>\n",
       "      <td>Speed Skating Women's 500 metres</td>\n",
       "      <td>NaN</td>\n",
       "    </tr>\n",
       "    <tr>\n",
       "      <th>...</th>\n",
       "      <td>...</td>\n",
       "      <td>...</td>\n",
       "      <td>...</td>\n",
       "      <td>...</td>\n",
       "      <td>...</td>\n",
       "      <td>...</td>\n",
       "      <td>...</td>\n",
       "      <td>...</td>\n",
       "      <td>...</td>\n",
       "      <td>...</td>\n",
       "      <td>...</td>\n",
       "      <td>...</td>\n",
       "      <td>...</td>\n",
       "      <td>...</td>\n",
       "      <td>...</td>\n",
       "    </tr>\n",
       "    <tr>\n",
       "      <th>271111</th>\n",
       "      <td>135569</td>\n",
       "      <td>Andrzej ya</td>\n",
       "      <td>M</td>\n",
       "      <td>29.0</td>\n",
       "      <td>179.0</td>\n",
       "      <td>89.0</td>\n",
       "      <td>Poland-1</td>\n",
       "      <td>POL</td>\n",
       "      <td>1976 Winter</td>\n",
       "      <td>1976</td>\n",
       "      <td>Winter</td>\n",
       "      <td>Innsbruck</td>\n",
       "      <td>Luge</td>\n",
       "      <td>Luge Mixed (Men)'s Doubles</td>\n",
       "      <td>NaN</td>\n",
       "    </tr>\n",
       "    <tr>\n",
       "      <th>271112</th>\n",
       "      <td>135570</td>\n",
       "      <td>Piotr ya</td>\n",
       "      <td>M</td>\n",
       "      <td>27.0</td>\n",
       "      <td>176.0</td>\n",
       "      <td>59.0</td>\n",
       "      <td>Poland</td>\n",
       "      <td>POL</td>\n",
       "      <td>2014 Winter</td>\n",
       "      <td>2014</td>\n",
       "      <td>Winter</td>\n",
       "      <td>Sochi</td>\n",
       "      <td>Ski Jumping</td>\n",
       "      <td>Ski Jumping Men's Large Hill, Individual</td>\n",
       "      <td>NaN</td>\n",
       "    </tr>\n",
       "    <tr>\n",
       "      <th>271113</th>\n",
       "      <td>135570</td>\n",
       "      <td>Piotr ya</td>\n",
       "      <td>M</td>\n",
       "      <td>27.0</td>\n",
       "      <td>176.0</td>\n",
       "      <td>59.0</td>\n",
       "      <td>Poland</td>\n",
       "      <td>POL</td>\n",
       "      <td>2014 Winter</td>\n",
       "      <td>2014</td>\n",
       "      <td>Winter</td>\n",
       "      <td>Sochi</td>\n",
       "      <td>Ski Jumping</td>\n",
       "      <td>Ski Jumping Men's Large Hill, Team</td>\n",
       "      <td>NaN</td>\n",
       "    </tr>\n",
       "    <tr>\n",
       "      <th>271114</th>\n",
       "      <td>135571</td>\n",
       "      <td>Tomasz Ireneusz ya</td>\n",
       "      <td>M</td>\n",
       "      <td>30.0</td>\n",
       "      <td>185.0</td>\n",
       "      <td>96.0</td>\n",
       "      <td>Poland</td>\n",
       "      <td>POL</td>\n",
       "      <td>1998 Winter</td>\n",
       "      <td>1998</td>\n",
       "      <td>Winter</td>\n",
       "      <td>Nagano</td>\n",
       "      <td>Bobsleigh</td>\n",
       "      <td>Bobsleigh Men's Four</td>\n",
       "      <td>NaN</td>\n",
       "    </tr>\n",
       "    <tr>\n",
       "      <th>271115</th>\n",
       "      <td>135571</td>\n",
       "      <td>Tomasz Ireneusz ya</td>\n",
       "      <td>M</td>\n",
       "      <td>34.0</td>\n",
       "      <td>185.0</td>\n",
       "      <td>96.0</td>\n",
       "      <td>Poland</td>\n",
       "      <td>POL</td>\n",
       "      <td>2002 Winter</td>\n",
       "      <td>2002</td>\n",
       "      <td>Winter</td>\n",
       "      <td>Salt Lake City</td>\n",
       "      <td>Bobsleigh</td>\n",
       "      <td>Bobsleigh Men's Four</td>\n",
       "      <td>NaN</td>\n",
       "    </tr>\n",
       "  </tbody>\n",
       "</table>\n",
       "<p>271116 rows × 15 columns</p>\n",
       "</div>"
      ],
      "text/plain": [
       "            ID                      Name Sex   Age  Height  Weight  \\\n",
       "0            1                 A Dijiang   M  24.0   180.0    80.0   \n",
       "1            2                  A Lamusi   M  23.0   170.0    60.0   \n",
       "2            3       Gunnar Nielsen Aaby   M  24.0     NaN     NaN   \n",
       "3            4      Edgar Lindenau Aabye   M  34.0     NaN     NaN   \n",
       "4            5  Christine Jacoba Aaftink   F  21.0   185.0    82.0   \n",
       "...        ...                       ...  ..   ...     ...     ...   \n",
       "271111  135569                Andrzej ya   M  29.0   179.0    89.0   \n",
       "271112  135570                  Piotr ya   M  27.0   176.0    59.0   \n",
       "271113  135570                  Piotr ya   M  27.0   176.0    59.0   \n",
       "271114  135571        Tomasz Ireneusz ya   M  30.0   185.0    96.0   \n",
       "271115  135571        Tomasz Ireneusz ya   M  34.0   185.0    96.0   \n",
       "\n",
       "                  Team  NOC        Games  Year  Season            City  \\\n",
       "0                China  CHN  1992 Summer  1992  Summer       Barcelona   \n",
       "1                China  CHN  2012 Summer  2012  Summer          London   \n",
       "2              Denmark  DEN  1920 Summer  1920  Summer       Antwerpen   \n",
       "3       Denmark/Sweden  DEN  1900 Summer  1900  Summer           Paris   \n",
       "4          Netherlands  NED  1988 Winter  1988  Winter         Calgary   \n",
       "...                ...  ...          ...   ...     ...             ...   \n",
       "271111        Poland-1  POL  1976 Winter  1976  Winter       Innsbruck   \n",
       "271112          Poland  POL  2014 Winter  2014  Winter           Sochi   \n",
       "271113          Poland  POL  2014 Winter  2014  Winter           Sochi   \n",
       "271114          Poland  POL  1998 Winter  1998  Winter          Nagano   \n",
       "271115          Poland  POL  2002 Winter  2002  Winter  Salt Lake City   \n",
       "\n",
       "                Sport                                     Event Medal  \n",
       "0          Basketball               Basketball Men's Basketball   NaN  \n",
       "1                Judo              Judo Men's Extra-Lightweight   NaN  \n",
       "2            Football                   Football Men's Football   NaN  \n",
       "3          Tug-Of-War               Tug-Of-War Men's Tug-Of-War  Gold  \n",
       "4       Speed Skating          Speed Skating Women's 500 metres   NaN  \n",
       "...               ...                                       ...   ...  \n",
       "271111           Luge                Luge Mixed (Men)'s Doubles   NaN  \n",
       "271112    Ski Jumping  Ski Jumping Men's Large Hill, Individual   NaN  \n",
       "271113    Ski Jumping        Ski Jumping Men's Large Hill, Team   NaN  \n",
       "271114      Bobsleigh                      Bobsleigh Men's Four   NaN  \n",
       "271115      Bobsleigh                      Bobsleigh Men's Four   NaN  \n",
       "\n",
       "[271116 rows x 15 columns]"
      ]
     },
     "execution_count": 2,
     "metadata": {},
     "output_type": "execute_result"
    }
   ],
   "source": [
    "dataset = pd.read_csv('data/athlete_events.csv')\n",
    "\n",
    "dataset"
   ]
  },
  {
   "cell_type": "code",
   "execution_count": 3,
   "id": "8a98eb7f",
   "metadata": {},
   "outputs": [
    {
     "data": {
      "text/plain": [
       "array(['CHN', 'DEN', 'NED', 'USA', 'FIN', 'NOR', 'ROU', 'EST', 'FRA',\n",
       "       'MAR', 'ESP', 'EGY', 'IRI', 'BUL', 'ITA', 'CHA', 'AZE', 'SUD',\n",
       "       'RUS', 'ARG', 'CUB', 'BLR', 'GRE', 'CMR', 'TUR', 'CHI', 'MEX',\n",
       "       'URS', 'NCA', 'HUN', 'NGR', 'ALG', 'KUW', 'BRN', 'PAK', 'IRQ',\n",
       "       'UAR', 'LIB', 'QAT', 'MAS', 'GER', 'CAN', 'IRL', 'AUS', 'RSA',\n",
       "       'ERI', 'TAN', 'JOR', 'TUN', 'LBA', 'BEL', 'DJI', 'PLE', 'COM',\n",
       "       'KAZ', 'BRU', 'IND', 'KSA', 'SYR', 'MDV', 'ETH', 'UAE', 'YAR',\n",
       "       'INA', 'PHI', 'SGP', 'UZB', 'KGZ', 'TJK', 'EUN', 'JPN', 'CGO',\n",
       "       'SUI', 'BRA', 'FRG', 'GDR', 'MON', 'ISR', 'URU', 'SWE', 'ISV',\n",
       "       'SRI', 'ARM', 'CIV', 'KEN', 'BEN', 'UKR', 'GBR', 'GHA', 'SOM',\n",
       "       'LAT', 'NIG', 'MLI', 'AFG', 'POL', 'CRC', 'PAN', 'GEO', 'SLO',\n",
       "       'CRO', 'GUY', 'NZL', 'POR', 'PAR', 'ANG', 'VEN', 'COL', 'BAN',\n",
       "       'PER', 'ESA', 'PUR', 'UGA', 'HON', 'ECU', 'TKM', 'MRI', 'SEY',\n",
       "       'TCH', 'LUX', 'MTN', 'CZE', 'SKN', 'TTO', 'DOM', 'VIN', 'JAM',\n",
       "       'LBR', 'SUR', 'NEP', 'MGL', 'AUT', 'PLW', 'LTU', 'TOG', 'NAM',\n",
       "       'AHO', 'ISL', 'ASA', 'SAM', 'RWA', 'DMA', 'HAI', 'MLT', 'CYP',\n",
       "       'GUI', 'BIZ', 'YMD', 'KOR', 'THA', 'BER', 'ANZ', 'SCG', 'SLE',\n",
       "       'PNG', 'YEM', 'IOA', 'OMA', 'FIJ', 'VAN', 'MDA', 'YUG', 'BAH',\n",
       "       'GUA', 'SRB', 'IVB', 'MOZ', 'CAF', 'MAD', 'MAL', 'BIH', 'GUM',\n",
       "       'CAY', 'SVK', 'BAR', 'GBS', 'TLS', 'COD', 'GAB', 'SMR', 'LAO',\n",
       "       'BOT', 'ROT', 'CAM', 'PRK', 'SOL', 'SEN', 'CPV', 'CRT', 'GEQ',\n",
       "       'BOL', 'SAA', 'AND', 'ANT', 'ZIM', 'GRN', 'HKG', 'LCA', 'FSM',\n",
       "       'MYA', 'MAW', 'ZAM', 'RHO', 'TPE', 'STP', 'MKD', 'BOH', 'TGA',\n",
       "       'LIE', 'MNE', 'GAM', 'COK', 'ALB', 'WIF', 'SWZ', 'BUR', 'NBO',\n",
       "       'BDI', 'ARU', 'NRU', 'VNM', 'VIE', 'BHU', 'MHL', 'KIR', 'UNK',\n",
       "       'TUV', 'NFL', 'KOS', 'SSD', 'LES'], dtype=object)"
      ]
     },
     "execution_count": 3,
     "metadata": {},
     "output_type": "execute_result"
    }
   ],
   "source": [
    "dataset['NOC'].unique()"
   ]
  },
  {
   "cell_type": "code",
   "execution_count": 4,
   "id": "8dac8d64",
   "metadata": {},
   "outputs": [
    {
     "data": {
      "text/html": [
       "<div>\n",
       "<style scoped>\n",
       "    .dataframe tbody tr th:only-of-type {\n",
       "        vertical-align: middle;\n",
       "    }\n",
       "\n",
       "    .dataframe tbody tr th {\n",
       "        vertical-align: top;\n",
       "    }\n",
       "\n",
       "    .dataframe thead th {\n",
       "        text-align: right;\n",
       "    }\n",
       "</style>\n",
       "<table border=\"1\" class=\"dataframe\">\n",
       "  <thead>\n",
       "    <tr style=\"text-align: right;\">\n",
       "      <th></th>\n",
       "      <th>ID</th>\n",
       "      <th>Name</th>\n",
       "      <th>Sex</th>\n",
       "      <th>Age</th>\n",
       "      <th>Height</th>\n",
       "      <th>Weight</th>\n",
       "      <th>Team</th>\n",
       "      <th>NOC</th>\n",
       "      <th>Games</th>\n",
       "      <th>Year</th>\n",
       "      <th>Season</th>\n",
       "      <th>City</th>\n",
       "      <th>Sport</th>\n",
       "      <th>Event</th>\n",
       "      <th>Medal</th>\n",
       "    </tr>\n",
       "  </thead>\n",
       "  <tbody>\n",
       "    <tr>\n",
       "      <th>665</th>\n",
       "      <td>386</td>\n",
       "      <td>Alexandre Abeid</td>\n",
       "      <td>M</td>\n",
       "      <td>22.0</td>\n",
       "      <td>194.0</td>\n",
       "      <td>92.0</td>\n",
       "      <td>Brazil</td>\n",
       "      <td>BRA</td>\n",
       "      <td>1972 Summer</td>\n",
       "      <td>1972</td>\n",
       "      <td>Summer</td>\n",
       "      <td>Munich</td>\n",
       "      <td>Volleyball</td>\n",
       "      <td>Volleyball Men's Volleyball</td>\n",
       "      <td>NaN</td>\n",
       "    </tr>\n",
       "    <tr>\n",
       "      <th>666</th>\n",
       "      <td>386</td>\n",
       "      <td>Alexandre Abeid</td>\n",
       "      <td>M</td>\n",
       "      <td>26.0</td>\n",
       "      <td>194.0</td>\n",
       "      <td>92.0</td>\n",
       "      <td>Brazil</td>\n",
       "      <td>BRA</td>\n",
       "      <td>1976 Summer</td>\n",
       "      <td>1976</td>\n",
       "      <td>Summer</td>\n",
       "      <td>Montreal</td>\n",
       "      <td>Volleyball</td>\n",
       "      <td>Volleyball Men's Volleyball</td>\n",
       "      <td>NaN</td>\n",
       "    </tr>\n",
       "    <tr>\n",
       "      <th>668</th>\n",
       "      <td>388</td>\n",
       "      <td>Abel Carlos da Silva Braga</td>\n",
       "      <td>M</td>\n",
       "      <td>19.0</td>\n",
       "      <td>190.0</td>\n",
       "      <td>73.0</td>\n",
       "      <td>Brazil</td>\n",
       "      <td>BRA</td>\n",
       "      <td>1972 Summer</td>\n",
       "      <td>1972</td>\n",
       "      <td>Summer</td>\n",
       "      <td>Munich</td>\n",
       "      <td>Football</td>\n",
       "      <td>Football Men's Football</td>\n",
       "      <td>NaN</td>\n",
       "    </tr>\n",
       "    <tr>\n",
       "      <th>781</th>\n",
       "      <td>451</td>\n",
       "      <td>Diana Monteiro Abla</td>\n",
       "      <td>F</td>\n",
       "      <td>21.0</td>\n",
       "      <td>175.0</td>\n",
       "      <td>75.0</td>\n",
       "      <td>Brazil</td>\n",
       "      <td>BRA</td>\n",
       "      <td>2016 Summer</td>\n",
       "      <td>2016</td>\n",
       "      <td>Summer</td>\n",
       "      <td>Rio de Janeiro</td>\n",
       "      <td>Water Polo</td>\n",
       "      <td>Water Polo Women's Water Polo</td>\n",
       "      <td>NaN</td>\n",
       "    </tr>\n",
       "    <tr>\n",
       "      <th>1005</th>\n",
       "      <td>565</td>\n",
       "      <td>Glauclio Serro Abreu</td>\n",
       "      <td>M</td>\n",
       "      <td>26.0</td>\n",
       "      <td>185.0</td>\n",
       "      <td>75.0</td>\n",
       "      <td>Brazil</td>\n",
       "      <td>BRA</td>\n",
       "      <td>2004 Summer</td>\n",
       "      <td>2004</td>\n",
       "      <td>Summer</td>\n",
       "      <td>Athina</td>\n",
       "      <td>Boxing</td>\n",
       "      <td>Boxing Men's Middleweight</td>\n",
       "      <td>NaN</td>\n",
       "    </tr>\n",
       "    <tr>\n",
       "      <th>...</th>\n",
       "      <td>...</td>\n",
       "      <td>...</td>\n",
       "      <td>...</td>\n",
       "      <td>...</td>\n",
       "      <td>...</td>\n",
       "      <td>...</td>\n",
       "      <td>...</td>\n",
       "      <td>...</td>\n",
       "      <td>...</td>\n",
       "      <td>...</td>\n",
       "      <td>...</td>\n",
       "      <td>...</td>\n",
       "      <td>...</td>\n",
       "      <td>...</td>\n",
       "      <td>...</td>\n",
       "    </tr>\n",
       "    <tr>\n",
       "      <th>268652</th>\n",
       "      <td>134400</td>\n",
       "      <td>Maria Jos \"Zz\" Bertolotti</td>\n",
       "      <td>F</td>\n",
       "      <td>26.0</td>\n",
       "      <td>190.0</td>\n",
       "      <td>NaN</td>\n",
       "      <td>Brazil</td>\n",
       "      <td>BRA</td>\n",
       "      <td>1992 Summer</td>\n",
       "      <td>1992</td>\n",
       "      <td>Summer</td>\n",
       "      <td>Barcelona</td>\n",
       "      <td>Basketball</td>\n",
       "      <td>Basketball Women's Basketball</td>\n",
       "      <td>NaN</td>\n",
       "    </tr>\n",
       "    <tr>\n",
       "      <th>269745</th>\n",
       "      <td>134976</td>\n",
       "      <td>Sieglinda Lenk Zigler</td>\n",
       "      <td>F</td>\n",
       "      <td>17.0</td>\n",
       "      <td>NaN</td>\n",
       "      <td>NaN</td>\n",
       "      <td>Brazil</td>\n",
       "      <td>BRA</td>\n",
       "      <td>1936 Summer</td>\n",
       "      <td>1936</td>\n",
       "      <td>Summer</td>\n",
       "      <td>Berlin</td>\n",
       "      <td>Swimming</td>\n",
       "      <td>Swimming Women's 100 metres Backstroke</td>\n",
       "      <td>NaN</td>\n",
       "    </tr>\n",
       "    <tr>\n",
       "      <th>269899</th>\n",
       "      <td>135037</td>\n",
       "      <td>Moacir Zimmermann</td>\n",
       "      <td>M</td>\n",
       "      <td>32.0</td>\n",
       "      <td>184.0</td>\n",
       "      <td>70.0</td>\n",
       "      <td>Brazil</td>\n",
       "      <td>BRA</td>\n",
       "      <td>2016 Summer</td>\n",
       "      <td>2016</td>\n",
       "      <td>Summer</td>\n",
       "      <td>Rio de Janeiro</td>\n",
       "      <td>Athletics</td>\n",
       "      <td>Athletics Men's 20 kilometres Walk</td>\n",
       "      <td>NaN</td>\n",
       "    </tr>\n",
       "    <tr>\n",
       "      <th>270478</th>\n",
       "      <td>135289</td>\n",
       "      <td>Zzimo Alves Calazans</td>\n",
       "      <td>M</td>\n",
       "      <td>20.0</td>\n",
       "      <td>NaN</td>\n",
       "      <td>NaN</td>\n",
       "      <td>Brazil</td>\n",
       "      <td>BRA</td>\n",
       "      <td>1952 Summer</td>\n",
       "      <td>1952</td>\n",
       "      <td>Summer</td>\n",
       "      <td>Helsinki</td>\n",
       "      <td>Football</td>\n",
       "      <td>Football Men's Football</td>\n",
       "      <td>NaN</td>\n",
       "    </tr>\n",
       "    <tr>\n",
       "      <th>270789</th>\n",
       "      <td>135423</td>\n",
       "      <td>Ral Benedito Zumbano</td>\n",
       "      <td>M</td>\n",
       "      <td>22.0</td>\n",
       "      <td>NaN</td>\n",
       "      <td>NaN</td>\n",
       "      <td>Brazil</td>\n",
       "      <td>BRA</td>\n",
       "      <td>1948 Summer</td>\n",
       "      <td>1948</td>\n",
       "      <td>Summer</td>\n",
       "      <td>London</td>\n",
       "      <td>Boxing</td>\n",
       "      <td>Boxing Men's Lightweight</td>\n",
       "      <td>NaN</td>\n",
       "    </tr>\n",
       "  </tbody>\n",
       "</table>\n",
       "<p>3848 rows × 15 columns</p>\n",
       "</div>"
      ],
      "text/plain": [
       "            ID                        Name Sex   Age  Height  Weight    Team  \\\n",
       "665        386             Alexandre Abeid   M  22.0   194.0    92.0  Brazil   \n",
       "666        386             Alexandre Abeid   M  26.0   194.0    92.0  Brazil   \n",
       "668        388  Abel Carlos da Silva Braga   M  19.0   190.0    73.0  Brazil   \n",
       "781        451         Diana Monteiro Abla   F  21.0   175.0    75.0  Brazil   \n",
       "1005       565        Glauclio Serro Abreu   M  26.0   185.0    75.0  Brazil   \n",
       "...        ...                         ...  ..   ...     ...     ...     ...   \n",
       "268652  134400   Maria Jos \"Zz\" Bertolotti   F  26.0   190.0     NaN  Brazil   \n",
       "269745  134976       Sieglinda Lenk Zigler   F  17.0     NaN     NaN  Brazil   \n",
       "269899  135037           Moacir Zimmermann   M  32.0   184.0    70.0  Brazil   \n",
       "270478  135289        Zzimo Alves Calazans   M  20.0     NaN     NaN  Brazil   \n",
       "270789  135423        Ral Benedito Zumbano   M  22.0     NaN     NaN  Brazil   \n",
       "\n",
       "        NOC        Games  Year  Season            City       Sport  \\\n",
       "665     BRA  1972 Summer  1972  Summer          Munich  Volleyball   \n",
       "666     BRA  1976 Summer  1976  Summer        Montreal  Volleyball   \n",
       "668     BRA  1972 Summer  1972  Summer          Munich    Football   \n",
       "781     BRA  2016 Summer  2016  Summer  Rio de Janeiro  Water Polo   \n",
       "1005    BRA  2004 Summer  2004  Summer          Athina      Boxing   \n",
       "...     ...          ...   ...     ...             ...         ...   \n",
       "268652  BRA  1992 Summer  1992  Summer       Barcelona  Basketball   \n",
       "269745  BRA  1936 Summer  1936  Summer          Berlin    Swimming   \n",
       "269899  BRA  2016 Summer  2016  Summer  Rio de Janeiro   Athletics   \n",
       "270478  BRA  1952 Summer  1952  Summer        Helsinki    Football   \n",
       "270789  BRA  1948 Summer  1948  Summer          London      Boxing   \n",
       "\n",
       "                                         Event Medal  \n",
       "665                Volleyball Men's Volleyball   NaN  \n",
       "666                Volleyball Men's Volleyball   NaN  \n",
       "668                    Football Men's Football   NaN  \n",
       "781              Water Polo Women's Water Polo   NaN  \n",
       "1005                 Boxing Men's Middleweight   NaN  \n",
       "...                                        ...   ...  \n",
       "268652           Basketball Women's Basketball   NaN  \n",
       "269745  Swimming Women's 100 metres Backstroke   NaN  \n",
       "269899      Athletics Men's 20 kilometres Walk   NaN  \n",
       "270478                 Football Men's Football   NaN  \n",
       "270789                Boxing Men's Lightweight   NaN  \n",
       "\n",
       "[3848 rows x 15 columns]"
      ]
     },
     "execution_count": 4,
     "metadata": {},
     "output_type": "execute_result"
    }
   ],
   "source": [
    "dataset[dataset['NOC']=='BRA']"
   ]
  },
  {
   "cell_type": "markdown",
   "id": "4d9822e8",
   "metadata": {
    "id": "4d9822e8"
   },
   "source": [
    "## O Brasil nas olímpiadas\n",
    "\n",
    "**1.** Crie um DataFrame contendo apenas informações sobre atletas **brasileiros**. Exiba a quantidade de linhas desse novo DataFrame."
   ]
  },
  {
   "cell_type": "code",
   "execution_count": 5,
   "id": "96beccb7",
   "metadata": {
    "id": "96beccb7"
   },
   "outputs": [
    {
     "data": {
      "text/html": [
       "<div>\n",
       "<style scoped>\n",
       "    .dataframe tbody tr th:only-of-type {\n",
       "        vertical-align: middle;\n",
       "    }\n",
       "\n",
       "    .dataframe tbody tr th {\n",
       "        vertical-align: top;\n",
       "    }\n",
       "\n",
       "    .dataframe thead th {\n",
       "        text-align: right;\n",
       "    }\n",
       "</style>\n",
       "<table border=\"1\" class=\"dataframe\">\n",
       "  <thead>\n",
       "    <tr style=\"text-align: right;\">\n",
       "      <th></th>\n",
       "      <th>ID</th>\n",
       "      <th>Name</th>\n",
       "      <th>Sex</th>\n",
       "      <th>Age</th>\n",
       "      <th>Height</th>\n",
       "      <th>Weight</th>\n",
       "      <th>Team</th>\n",
       "      <th>NOC</th>\n",
       "      <th>Games</th>\n",
       "      <th>Year</th>\n",
       "      <th>Season</th>\n",
       "      <th>City</th>\n",
       "      <th>Sport</th>\n",
       "      <th>Event</th>\n",
       "      <th>Medal</th>\n",
       "    </tr>\n",
       "  </thead>\n",
       "  <tbody>\n",
       "    <tr>\n",
       "      <th>665</th>\n",
       "      <td>386</td>\n",
       "      <td>Alexandre Abeid</td>\n",
       "      <td>M</td>\n",
       "      <td>22.0</td>\n",
       "      <td>194.0</td>\n",
       "      <td>92.0</td>\n",
       "      <td>Brazil</td>\n",
       "      <td>BRA</td>\n",
       "      <td>1972 Summer</td>\n",
       "      <td>1972</td>\n",
       "      <td>Summer</td>\n",
       "      <td>Munich</td>\n",
       "      <td>Volleyball</td>\n",
       "      <td>Volleyball Men's Volleyball</td>\n",
       "      <td>NaN</td>\n",
       "    </tr>\n",
       "    <tr>\n",
       "      <th>666</th>\n",
       "      <td>386</td>\n",
       "      <td>Alexandre Abeid</td>\n",
       "      <td>M</td>\n",
       "      <td>26.0</td>\n",
       "      <td>194.0</td>\n",
       "      <td>92.0</td>\n",
       "      <td>Brazil</td>\n",
       "      <td>BRA</td>\n",
       "      <td>1976 Summer</td>\n",
       "      <td>1976</td>\n",
       "      <td>Summer</td>\n",
       "      <td>Montreal</td>\n",
       "      <td>Volleyball</td>\n",
       "      <td>Volleyball Men's Volleyball</td>\n",
       "      <td>NaN</td>\n",
       "    </tr>\n",
       "    <tr>\n",
       "      <th>668</th>\n",
       "      <td>388</td>\n",
       "      <td>Abel Carlos da Silva Braga</td>\n",
       "      <td>M</td>\n",
       "      <td>19.0</td>\n",
       "      <td>190.0</td>\n",
       "      <td>73.0</td>\n",
       "      <td>Brazil</td>\n",
       "      <td>BRA</td>\n",
       "      <td>1972 Summer</td>\n",
       "      <td>1972</td>\n",
       "      <td>Summer</td>\n",
       "      <td>Munich</td>\n",
       "      <td>Football</td>\n",
       "      <td>Football Men's Football</td>\n",
       "      <td>NaN</td>\n",
       "    </tr>\n",
       "    <tr>\n",
       "      <th>781</th>\n",
       "      <td>451</td>\n",
       "      <td>Diana Monteiro Abla</td>\n",
       "      <td>F</td>\n",
       "      <td>21.0</td>\n",
       "      <td>175.0</td>\n",
       "      <td>75.0</td>\n",
       "      <td>Brazil</td>\n",
       "      <td>BRA</td>\n",
       "      <td>2016 Summer</td>\n",
       "      <td>2016</td>\n",
       "      <td>Summer</td>\n",
       "      <td>Rio de Janeiro</td>\n",
       "      <td>Water Polo</td>\n",
       "      <td>Water Polo Women's Water Polo</td>\n",
       "      <td>NaN</td>\n",
       "    </tr>\n",
       "    <tr>\n",
       "      <th>1005</th>\n",
       "      <td>565</td>\n",
       "      <td>Glauclio Serro Abreu</td>\n",
       "      <td>M</td>\n",
       "      <td>26.0</td>\n",
       "      <td>185.0</td>\n",
       "      <td>75.0</td>\n",
       "      <td>Brazil</td>\n",
       "      <td>BRA</td>\n",
       "      <td>2004 Summer</td>\n",
       "      <td>2004</td>\n",
       "      <td>Summer</td>\n",
       "      <td>Athina</td>\n",
       "      <td>Boxing</td>\n",
       "      <td>Boxing Men's Middleweight</td>\n",
       "      <td>NaN</td>\n",
       "    </tr>\n",
       "  </tbody>\n",
       "</table>\n",
       "</div>"
      ],
      "text/plain": [
       "       ID                        Name Sex   Age  Height  Weight    Team  NOC  \\\n",
       "665   386             Alexandre Abeid   M  22.0   194.0    92.0  Brazil  BRA   \n",
       "666   386             Alexandre Abeid   M  26.0   194.0    92.0  Brazil  BRA   \n",
       "668   388  Abel Carlos da Silva Braga   M  19.0   190.0    73.0  Brazil  BRA   \n",
       "781   451         Diana Monteiro Abla   F  21.0   175.0    75.0  Brazil  BRA   \n",
       "1005  565        Glauclio Serro Abreu   M  26.0   185.0    75.0  Brazil  BRA   \n",
       "\n",
       "            Games  Year  Season            City       Sport  \\\n",
       "665   1972 Summer  1972  Summer          Munich  Volleyball   \n",
       "666   1976 Summer  1976  Summer        Montreal  Volleyball   \n",
       "668   1972 Summer  1972  Summer          Munich    Football   \n",
       "781   2016 Summer  2016  Summer  Rio de Janeiro  Water Polo   \n",
       "1005  2004 Summer  2004  Summer          Athina      Boxing   \n",
       "\n",
       "                              Event Medal  \n",
       "665     Volleyball Men's Volleyball   NaN  \n",
       "666     Volleyball Men's Volleyball   NaN  \n",
       "668         Football Men's Football   NaN  \n",
       "781   Water Polo Women's Water Polo   NaN  \n",
       "1005      Boxing Men's Middleweight   NaN  "
      ]
     },
     "execution_count": 5,
     "metadata": {},
     "output_type": "execute_result"
    }
   ],
   "source": [
    "br_df = dataset[dataset['NOC']=='BRA']\n",
    "\n",
    "br_df.head()"
   ]
  },
  {
   "cell_type": "markdown",
   "id": "7eb615e3",
   "metadata": {},
   "source": [
    "Descrevendo o DataFrame:"
   ]
  },
  {
   "cell_type": "code",
   "execution_count": 6,
   "id": "c8a510e0",
   "metadata": {},
   "outputs": [
    {
     "name": "stdout",
     "output_type": "stream",
     "text": [
      "O dataframe tem o seguinte formato (linhas x colunas): (3848, 15)\n",
      "Colunas do dataframe: Index(['ID', 'Name', 'Sex', 'Age', 'Height', 'Weight', 'Team', 'NOC', 'Games',\n",
      "       'Year', 'Season', 'City', 'Sport', 'Event', 'Medal'],\n",
      "      dtype='object')\n"
     ]
    }
   ],
   "source": [
    "rows_and_cols, col_description = br_df.shape, br_df.columns\n",
    "\n",
    "print(f'O dataframe tem o seguinte formato (linhas x colunas): {rows_and_cols}\\nColunas do dataframe: {col_description}')"
   ]
  },
  {
   "cell_type": "markdown",
   "id": "4565dbe2",
   "metadata": {
    "id": "4565dbe2"
   },
   "source": [
    "**2. Será que existe alguma correlação entre a altura do atleta e seu desempenho, para algum esporte? Faça essa análise separadamente para cada gênero, e conclua.**\n",
    "\n",
    "Gere um ou mais gráficos de sua escolha, em que seja possível comparar as alturas dos atletas de cada esporte, separando-os por gênero. Se necessário, crie colunas ou DataFrames auxiliares.\n",
    "\n",
    "**Facilitador:** se quiser, analise apenas os esportes em que se tenha ao menos 5 atletas medalhistas e 5 atletas não medalhistas, para facilitar visualizações e conclusões."
   ]
  },
  {
   "cell_type": "markdown",
   "id": "9f291d0b",
   "metadata": {},
   "source": [
    "Criando uma coluna de \"Sim\" e \"Não\" para quem obteve medalhas ou não:"
   ]
  },
  {
   "cell_type": "code",
   "execution_count": 7,
   "id": "48f911a3",
   "metadata": {},
   "outputs": [
    {
     "name": "stderr",
     "output_type": "stream",
     "text": [
      "/tmp/ipykernel_49646/3769625878.py:1: SettingWithCopyWarning: \n",
      "A value is trying to be set on a copy of a slice from a DataFrame.\n",
      "Try using .loc[row_indexer,col_indexer] = value instead\n",
      "\n",
      "See the caveats in the documentation: https://pandas.pydata.org/pandas-docs/stable/user_guide/indexing.html#returning-a-view-versus-a-copy\n",
      "  br_df['Medalist'] = br_df['Medal'].fillna(0)\n",
      "/tmp/ipykernel_49646/3769625878.py:2: SettingWithCopyWarning: \n",
      "A value is trying to be set on a copy of a slice from a DataFrame.\n",
      "Try using .loc[row_indexer,col_indexer] = value instead\n",
      "\n",
      "See the caveats in the documentation: https://pandas.pydata.org/pandas-docs/stable/user_guide/indexing.html#returning-a-view-versus-a-copy\n",
      "  br_df['Medalist'] = br_df['Medalist'].replace({0:'Não', 'Bronze':'Sim', 'Silver':'Sim', 'Gold':'Sim'})\n",
      "/tmp/ipykernel_49646/3769625878.py:3: SettingWithCopyWarning: \n",
      "A value is trying to be set on a copy of a slice from a DataFrame.\n",
      "Try using .loc[row_indexer,col_indexer] = value instead\n",
      "\n",
      "See the caveats in the documentation: https://pandas.pydata.org/pandas-docs/stable/user_guide/indexing.html#returning-a-view-versus-a-copy\n",
      "  br_df['Medalist'] = pd.Categorical(br_df['Medalist'], ['Sim', 'Não'], ordered=True)\n"
     ]
    }
   ],
   "source": [
    "br_df['Medalist'] = br_df['Medal'].fillna(0)\n",
    "br_df['Medalist'] = br_df['Medalist'].replace({0:'Não', 'Bronze':'Sim', 'Silver':'Sim', 'Gold':'Sim'})\n",
    "br_df['Medalist'] = pd.Categorical(br_df['Medalist'], ['Sim', 'Não'], ordered=True)\n",
    "\n",
    "br_df.head(10);"
   ]
  },
  {
   "cell_type": "markdown",
   "id": "be45a538",
   "metadata": {},
   "source": [
    "Checando a coluna:"
   ]
  },
  {
   "cell_type": "code",
   "execution_count": 8,
   "id": "ced90d32",
   "metadata": {},
   "outputs": [
    {
     "data": {
      "text/plain": [
       "['Não', 'Sim']\n",
       "Categories (2, object): ['Sim' < 'Não']"
      ]
     },
     "execution_count": 8,
     "metadata": {},
     "output_type": "execute_result"
    }
   ],
   "source": [
    "br_df['Medalist'].unique()"
   ]
  },
  {
   "cell_type": "markdown",
   "id": "b0b839cf",
   "metadata": {},
   "source": [
    "Agora, vamos criar dois sub-dataframes, um para os atletas homens, outro para os atletas mulheres:"
   ]
  },
  {
   "cell_type": "code",
   "execution_count": 9,
   "id": "f20813bb",
   "metadata": {},
   "outputs": [],
   "source": [
    "br_df_M = br_df[br_df['Sex'] == 'M']\n",
    "br_df_F = br_df[br_df['Sex'] == 'F']"
   ]
  },
  {
   "cell_type": "markdown",
   "id": "862abb83",
   "metadata": {},
   "source": [
    "Ainda há valores NaN na coluna 'Height'. Como há um número alto de valores não preenchidos (quase 15%), decidimos preencher os NaN's com a mediana dos valores para que o número de dados da análise não seja muito pequeno:"
   ]
  },
  {
   "cell_type": "code",
   "execution_count": 10,
   "id": "cf6f1ca0",
   "metadata": {},
   "outputs": [
    {
     "data": {
      "text/plain": [
       "781       175.0\n",
       "1668      187.0\n",
       "1669      187.0\n",
       "1855      180.0\n",
       "1856      180.0\n",
       "          ...  \n",
       "267755    162.0\n",
       "267756    162.0\n",
       "268651    172.0\n",
       "268652    190.0\n",
       "269745      NaN\n",
       "Name: Height, Length: 1148, dtype: float64"
      ]
     },
     "execution_count": 10,
     "metadata": {},
     "output_type": "execute_result"
    }
   ],
   "source": [
    "br_df_F['Height']"
   ]
  },
  {
   "cell_type": "markdown",
   "id": "fe0679ba",
   "metadata": {},
   "source": [
    "Preenchendo os dados:"
   ]
  },
  {
   "cell_type": "code",
   "execution_count": 11,
   "id": "176f8c8f",
   "metadata": {},
   "outputs": [
    {
     "name": "stderr",
     "output_type": "stream",
     "text": [
      "/tmp/ipykernel_49646/3951886870.py:1: SettingWithCopyWarning: \n",
      "A value is trying to be set on a copy of a slice from a DataFrame.\n",
      "Try using .loc[row_indexer,col_indexer] = value instead\n",
      "\n",
      "See the caveats in the documentation: https://pandas.pydata.org/pandas-docs/stable/user_guide/indexing.html#returning-a-view-versus-a-copy\n",
      "  br_df_M[br_df_M['Height'].isna()] = br_df_M[br_df_M['Height'].isna()].replace(np.nan, br_df_M['Height'].median())\n",
      "/tmp/ipykernel_49646/3951886870.py:2: SettingWithCopyWarning: \n",
      "A value is trying to be set on a copy of a slice from a DataFrame.\n",
      "Try using .loc[row_indexer,col_indexer] = value instead\n",
      "\n",
      "See the caveats in the documentation: https://pandas.pydata.org/pandas-docs/stable/user_guide/indexing.html#returning-a-view-versus-a-copy\n",
      "  br_df_F[br_df_F['Height'].isna()] = br_df_F[br_df_F['Height'].isna()].replace(np.nan, br_df_F['Height'].median())\n"
     ]
    }
   ],
   "source": [
    "br_df_M[br_df_M['Height'].isna()] = br_df_M[br_df_M['Height'].isna()].replace(np.nan, br_df_M['Height'].median())\n",
    "br_df_F[br_df_F['Height'].isna()] = br_df_F[br_df_F['Height'].isna()].replace(np.nan, br_df_F['Height'].median())"
   ]
  },
  {
   "cell_type": "markdown",
   "id": "ad615516",
   "metadata": {},
   "source": [
    "Por fim, vamos pegar quais esportes tem mais tem medalhas:"
   ]
  },
  {
   "cell_type": "code",
   "execution_count": 12,
   "id": "1e0bac7a",
   "metadata": {},
   "outputs": [
    {
     "data": {
      "text/html": [
       "<div>\n",
       "<style scoped>\n",
       "    .dataframe tbody tr th:only-of-type {\n",
       "        vertical-align: middle;\n",
       "    }\n",
       "\n",
       "    .dataframe tbody tr th {\n",
       "        vertical-align: top;\n",
       "    }\n",
       "\n",
       "    .dataframe thead th {\n",
       "        text-align: right;\n",
       "    }\n",
       "</style>\n",
       "<table border=\"1\" class=\"dataframe\">\n",
       "  <thead>\n",
       "    <tr style=\"text-align: right;\">\n",
       "      <th></th>\n",
       "      <th>Sim</th>\n",
       "      <th>Não</th>\n",
       "    </tr>\n",
       "    <tr>\n",
       "      <th>Sport</th>\n",
       "      <th></th>\n",
       "      <th></th>\n",
       "    </tr>\n",
       "  </thead>\n",
       "  <tbody>\n",
       "    <tr>\n",
       "      <th>Athletics</th>\n",
       "      <td>25</td>\n",
       "      <td>338</td>\n",
       "    </tr>\n",
       "    <tr>\n",
       "      <th>Basketball</th>\n",
       "      <td>34</td>\n",
       "      <td>139</td>\n",
       "    </tr>\n",
       "    <tr>\n",
       "      <th>Beach Volleyball</th>\n",
       "      <td>12</td>\n",
       "      <td>12</td>\n",
       "    </tr>\n",
       "    <tr>\n",
       "      <th>Football</th>\n",
       "      <td>101</td>\n",
       "      <td>103</td>\n",
       "    </tr>\n",
       "    <tr>\n",
       "      <th>Judo</th>\n",
       "      <td>17</td>\n",
       "      <td>61</td>\n",
       "    </tr>\n",
       "    <tr>\n",
       "      <th>Sailing</th>\n",
       "      <td>30</td>\n",
       "      <td>123</td>\n",
       "    </tr>\n",
       "    <tr>\n",
       "      <th>Swimming</th>\n",
       "      <td>19</td>\n",
       "      <td>368</td>\n",
       "    </tr>\n",
       "    <tr>\n",
       "      <th>Volleyball</th>\n",
       "      <td>72</td>\n",
       "      <td>93</td>\n",
       "    </tr>\n",
       "  </tbody>\n",
       "</table>\n",
       "</div>"
      ],
      "text/plain": [
       "                  Sim  Não\n",
       "Sport                     \n",
       "Athletics          25  338\n",
       "Basketball         34  139\n",
       "Beach Volleyball   12   12\n",
       "Football          101  103\n",
       "Judo               17   61\n",
       "Sailing            30  123\n",
       "Swimming           19  368\n",
       "Volleyball         72   93"
      ]
     },
     "execution_count": 12,
     "metadata": {},
     "output_type": "execute_result"
    }
   ],
   "source": [
    "br_df_M.groupby('Sport').Medalist.value_counts().unstack()\n",
    "medalhas = br_df_M.groupby('Sport').Medalist.value_counts().unstack()\n",
    "medalhas[medalhas['Sim'] > 10]"
   ]
  },
  {
   "cell_type": "markdown",
   "id": "28cf0a27",
   "metadata": {},
   "source": [
    "Não surpreendentemente, os esportes de maior destaque para o Brasil são os das olimpíadas de verão. Sendo assim, iremos nos limitar a eles para a análise."
   ]
  },
  {
   "cell_type": "code",
   "execution_count": 13,
   "id": "88b709a1",
   "metadata": {},
   "outputs": [],
   "source": [
    "summer_sports = ['Athletics', 'Basketball', 'Beach Volleyball', 'Football', 'Judo', 'Sailing', 'Swimming', 'Volleyball']\n",
    "final_data_M = br_df_M[br_df_M['Sport'].isin(summer_sports)]\n",
    "final_data_F = br_df_F[br_df_F['Sport'].isin(summer_sports)]"
   ]
  },
  {
   "cell_type": "markdown",
   "id": "a18a8056",
   "metadata": {},
   "source": [
    "Agora iremos verificar a correlação entre altura x esporte e desempenho:"
   ]
  },
  {
   "cell_type": "code",
   "execution_count": 14,
   "id": "8d1009a0",
   "metadata": {},
   "outputs": [
    {
     "data": {
      "text/plain": [
       "Text(0.5, 0.98, 'Correlação entre Altura e  Desempenho Esportivo (Masculino)')"
      ]
     },
     "execution_count": 14,
     "metadata": {},
     "output_type": "execute_result"
    },
    {
     "data": {
      "image/png": "[encoded data removed]",
      "text/plain": [
       "<Figure size 955.625x360 with 1 Axes>"
      ]
     },
     "metadata": {
      "needs_background": "light"
     },
     "output_type": "display_data"
    }
   ],
   "source": [
    "g = sns.catplot(data=final_data_M,\n",
    "            x='Sport',\n",
    "            y='Height',\n",
    "            hue='Medalist',\n",
    "            kind='box',\n",
    "            aspect=2.5)\n",
    "\n",
    "g.set_axis_labels(\"Esporte\", \"Altura\")\n",
    "g.fig.suptitle('Correlação entre Altura e  Desempenho Esportivo (Masculino)')"
   ]
  },
  {
   "cell_type": "code",
   "execution_count": 15,
   "id": "af4ea793",
   "metadata": {},
   "outputs": [
    {
     "data": {
      "text/plain": [
       "Text(0.5, 0.98, 'Correlação entre Altura e  Desempenho Esportivo (Feminino)')"
      ]
     },
     "execution_count": 15,
     "metadata": {},
     "output_type": "execute_result"
    },
    {
     "data": {
      "image/png": "[encoded data removed]",
      "text/plain": [
       "<Figure size 955.625x360 with 1 Axes>"
      ]
     },
     "metadata": {
      "needs_background": "light"
     },
     "output_type": "display_data"
    }
   ],
   "source": [
    "f = sns.catplot(data=final_data_F,\n",
    "            x='Sport',\n",
    "            y='Height',\n",
    "            hue='Medalist',\n",
    "            kind='box',\n",
    "            aspect=2.5)\n",
    "\n",
    "f.set_axis_labels(\"Esporte\", \"Altura\")\n",
    "f.fig.suptitle('Correlação entre Altura e  Desempenho Esportivo (Feminino)')"
   ]
  },
  {
   "cell_type": "markdown",
   "id": "a5fab303",
   "metadata": {},
   "source": [
    "### Comparando por heatmap"
   ]
  },
  {
   "cell_type": "code",
   "execution_count": 16,
   "id": "7a7ba019",
   "metadata": {},
   "outputs": [
    {
     "name": "stderr",
     "output_type": "stream",
     "text": [
      "/tmp/ipykernel_49646/1805546886.py:3: SettingWithCopyWarning: \n",
      "A value is trying to be set on a copy of a slice from a DataFrame.\n",
      "Try using .loc[row_indexer,col_indexer] = value instead\n",
      "\n",
      "See the caveats in the documentation: https://pandas.pydata.org/pandas-docs/stable/user_guide/indexing.html#returning-a-view-versus-a-copy\n",
      "  br_df_M['Medal'] = br_df_M['Medal'].fillna(0)\n",
      "/tmp/ipykernel_49646/1805546886.py:4: SettingWithCopyWarning: \n",
      "A value is trying to be set on a copy of a slice from a DataFrame.\n",
      "Try using .loc[row_indexer,col_indexer] = value instead\n",
      "\n",
      "See the caveats in the documentation: https://pandas.pydata.org/pandas-docs/stable/user_guide/indexing.html#returning-a-view-versus-a-copy\n",
      "  br_df_M['Medal'] = br_df_M['Medal'].replace({'Bronze': 1, 'Silver': 1, 'Gold': 1})\n",
      "/tmp/ipykernel_49646/1805546886.py:5: SettingWithCopyWarning: \n",
      "A value is trying to be set on a copy of a slice from a DataFrame.\n",
      "Try using .loc[row_indexer,col_indexer] = value instead\n",
      "\n",
      "See the caveats in the documentation: https://pandas.pydata.org/pandas-docs/stable/user_guide/indexing.html#returning-a-view-versus-a-copy\n",
      "  br_df_M['Medal'] = pd.Categorical(br_df_M['Medal'], [0, 1])\n",
      "/tmp/ipykernel_49646/1805546886.py:7: SettingWithCopyWarning: \n",
      "A value is trying to be set on a copy of a slice from a DataFrame.\n",
      "Try using .loc[row_indexer,col_indexer] = value instead\n",
      "\n",
      "See the caveats in the documentation: https://pandas.pydata.org/pandas-docs/stable/user_guide/indexing.html#returning-a-view-versus-a-copy\n",
      "  br_df_F['Medal'] = br_df_F['Medal'].fillna(0)\n",
      "/tmp/ipykernel_49646/1805546886.py:8: SettingWithCopyWarning: \n",
      "A value is trying to be set on a copy of a slice from a DataFrame.\n",
      "Try using .loc[row_indexer,col_indexer] = value instead\n",
      "\n",
      "See the caveats in the documentation: https://pandas.pydata.org/pandas-docs/stable/user_guide/indexing.html#returning-a-view-versus-a-copy\n",
      "  br_df_F['Medal'] = br_df_F['Medal'].replace({'Bronze': 1, 'Silver': 1, 'Gold': 1})\n",
      "/tmp/ipykernel_49646/1805546886.py:9: SettingWithCopyWarning: \n",
      "A value is trying to be set on a copy of a slice from a DataFrame.\n",
      "Try using .loc[row_indexer,col_indexer] = value instead\n",
      "\n",
      "See the caveats in the documentation: https://pandas.pydata.org/pandas-docs/stable/user_guide/indexing.html#returning-a-view-versus-a-copy\n",
      "  br_df_F['Medal'] = pd.Categorical(br_df_F['Medal'], [0, 1])\n"
     ]
    }
   ],
   "source": [
    "# Redefinindo a coluna Medal para categoria (0: não tem medalha, 1: tem medalha)\n",
    "\n",
    "br_df_M['Medal'] = br_df_M['Medal'].fillna(0)\n",
    "br_df_M['Medal'] = br_df_M['Medal'].replace({'Bronze': 1, 'Silver': 1, 'Gold': 1})\n",
    "br_df_M['Medal'] = pd.Categorical(br_df_M['Medal'], [0, 1])\n",
    "\n",
    "br_df_F['Medal'] = br_df_F['Medal'].fillna(0)\n",
    "br_df_F['Medal'] = br_df_F['Medal'].replace({'Bronze': 1, 'Silver': 1, 'Gold': 1})\n",
    "br_df_F['Medal'] = pd.Categorical(br_df_F['Medal'], [0, 1])"
   ]
  },
  {
   "cell_type": "code",
   "execution_count": 17,
   "id": "d6a2b3fb",
   "metadata": {},
   "outputs": [],
   "source": [
    "# Agrupando a quantidade de medalhas por modalidade e altura\n",
    "\n",
    "br_df_M = br_df_M[['Sport', 'Height', 'Medal']]\n",
    "M_medals = br_df_M[br_df_M['Medal'] == 1].groupby(['Sport', 'Height']).Medal.count().unstack().fillna(0)\n",
    "\n",
    "\n",
    "br_df_F = br_df_F[['Sport', 'Height', 'Medal']]\n",
    "F_medals = br_df_F[br_df_F['Medal'] == 1].groupby(['Sport', 'Height']).Medal.count().unstack().fillna(0)"
   ]
  },
  {
   "cell_type": "code",
   "execution_count": 18,
   "id": "feb1a15a",
   "metadata": {},
   "outputs": [
    {
     "data": {
      "text/plain": [
       "((14, 45), (11, 39))"
      ]
     },
     "execution_count": 18,
     "metadata": {},
     "output_type": "execute_result"
    }
   ],
   "source": [
    "M_medals.shape, F_medals.shape"
   ]
  },
  {
   "cell_type": "code",
   "execution_count": 19,
   "id": "a2be27b0",
   "metadata": {},
   "outputs": [],
   "source": [
    "# Condensando as categorias de altura\n",
    "\n",
    "# primeiramente criando um novo dataframe\n",
    "M_heat = pd.DataFrame(M_medals[156.0])\n",
    "F_heat = pd.DataFrame(F_medals[154.0])"
   ]
  },
  {
   "cell_type": "code",
   "execution_count": 20,
   "id": "b13cf1b5",
   "metadata": {},
   "outputs": [],
   "source": [
    "# Preenchendo o novo dataframe com as colunas somadas (de 3 em 3 nesse caso)\n",
    "\n",
    "for coluna in range(int(len(M_medals.columns)/3)):\n",
    "    \n",
    "    if coluna == 0:\n",
    "        \n",
    "        M_heat[int((M_medals.columns[coluna] + \n",
    "                  M_medals.columns[coluna + 1] + \n",
    "                  M_medals.columns[coluna + 2]) / 3)] = (M_medals[M_medals.columns[coluna]] + \n",
    "                  M_medals[M_medals.columns[coluna + 1]] + \n",
    "                  M_medals[M_medals.columns[coluna + 2]])\n",
    " \n",
    "    else:\n",
    "        \n",
    "        M_heat[int(((M_medals.columns[coluna*3] + \n",
    "                  M_medals.columns[coluna*3 + 1] + \n",
    "                  M_medals.columns[coluna*3 + 2]) / 3))] = (M_medals[M_medals.columns[coluna*3]] + \n",
    "                  M_medals[M_medals.columns[coluna*3 + 1]] + \n",
    "                  M_medals[M_medals.columns[coluna*3 + 2]])\n",
    "\n",
    "        \n",
    "# (o df feminino tem menos categorias de altura, então agrupei de 2 em 2)\n",
    "\n",
    "for coluna in range(int(len(F_medals.columns)/2)):\n",
    "    \n",
    "    if coluna == 0:\n",
    "        \n",
    "        F_heat[int((F_medals.columns[coluna] + \n",
    "                  F_medals.columns[coluna + 1] + \n",
    "                  F_medals.columns[coluna + 2]) / 3)] = (F_medals[F_medals.columns[coluna]] + \n",
    "                  F_medals[F_medals.columns[coluna + 1]] + \n",
    "                  F_medals[F_medals.columns[coluna + 2]])\n",
    " \n",
    "    else:\n",
    "        \n",
    "        F_heat[int(((F_medals.columns[coluna*2] + \n",
    "                  F_medals.columns[coluna*2 + 1]) / 2))] = (F_medals[F_medals.columns[coluna*2]] + \n",
    "                  F_medals[F_medals.columns[coluna*2 + 1]])"
   ]
  },
  {
   "cell_type": "code",
   "execution_count": 21,
   "id": "4e039c06",
   "metadata": {},
   "outputs": [],
   "source": [
    "M_heat = M_heat.iloc[:,1:]\n",
    "F_heat = F_heat.iloc[:,1:]"
   ]
  },
  {
   "cell_type": "code",
   "execution_count": 22,
   "id": "2ae68791",
   "metadata": {},
   "outputs": [
    {
     "data": {
      "image/png": "[encoded data removed]",
      "text/plain": [
       "<Figure size 1080x864 with 2 Axes>"
      ]
     },
     "metadata": {
      "needs_background": "light"
     },
     "output_type": "display_data"
    }
   ],
   "source": [
    "f, ax = plt.subplots(figsize=(15, 12))\n",
    "sns.heatmap(M_heat, ax=ax, cmap='viridis_r')\n",
    "\n",
    "ax.set_xlabel('Altura', size=20)\n",
    "ax.set_ylabel('Modalidade', size=20)\n",
    "ax.set_title('Medalhas por Altura (Masculino)', size=30)\n",
    "\n",
    "plt.show()"
   ]
  },
  {
   "cell_type": "code",
   "execution_count": 23,
   "id": "918a155f",
   "metadata": {},
   "outputs": [
    {
     "data": {
      "image/png": "[encoded data removed]",
      "text/plain": [
       "<Figure size 1080x864 with 2 Axes>"
      ]
     },
     "metadata": {
      "needs_background": "light"
     },
     "output_type": "display_data"
    }
   ],
   "source": [
    "f, ax = plt.subplots(figsize=(15, 12))\n",
    "sns.heatmap(F_heat, ax=ax, cmap='viridis_r', square=False)\n",
    "\n",
    "ax.set_xlabel('Altura', size=20)\n",
    "ax.set_ylabel('Modalidade', size=20)\n",
    "ax.set_title('Medalhas por Altura (Feminino)', size=30)\n",
    "\n",
    "plt.show()"
   ]
  },
  {
   "cell_type": "markdown",
   "id": "0c7d2be4",
   "metadata": {},
   "source": [
    "Como curiosidade, vamos ver a distribuição de alturas dos atletas"
   ]
  },
  {
   "cell_type": "code",
   "execution_count": 24,
   "id": "c34af19f",
   "metadata": {},
   "outputs": [
    {
     "data": {
      "image/png": "[encoded data removed]",
      "text/plain": [
       "<Figure size 1080x720 with 1 Axes>"
      ]
     },
     "metadata": {
      "needs_background": "light"
     },
     "output_type": "display_data"
    }
   ],
   "source": [
    "plt.figure(figsize=(15,10))\n",
    "sns.histplot(data=br_df, x='Height', hue='Sex', kde=True)\n",
    "\n",
    "plt.xlabel('Altura')\n",
    "plt.ylabel('Contagem')\n",
    "\n",
    "plt.legend(['F', 'M'], title='Sexo')\n",
    "\n",
    "plt.show()"
   ]
  },
  {
   "cell_type": "markdown",
   "id": "778c174d",
   "metadata": {},
   "source": [
    "#### Influência da Altura\n",
    "Não há correlação entre o desempenho dos atletas e o desempenho deles em termos de medalhas obtidas. Mesmo em esportes com altas concentrações de atletas mais altos, como Basquetebol, Voleibol, e Volei de Praia, altura não assegura o desempenho, aliás, a relação é até inversa no caso do Basquetebol Masculino, cuja maioria dos atletas mais altos não obtiveram medalhas. Há a presença de *oultliers* na natação, e no judô, por exemplo, mas a correlação continua a mesma.\n",
    "\n",
    "#### Influência do Gênero\n",
    "O gênero apenas influencia na distribuição de alturas, sendo os homens predominantemente maiores que as mulheres, como demonstrado no primeiro gráfico, onde a distribuição de alturas entre atletas masculinos e atletas femininos é distintamente separadada. Curiosamente, a distribuição de atletas de âmbos os gêneros é bimodal - tendo picos em 150cm e 170cm para as mulheres, e 170cm e 190cm para homens."
   ]
  },
  {
   "cell_type": "markdown",
   "id": "5eb6aba6",
   "metadata": {
    "id": "5eb6aba6"
   },
   "source": [
    "**3. Vamos analisar agora as medalhas que nossos atletas trouxeram para casa.**\n",
    "\n",
    "Crie uma visualização de sua preferência para mostrar, por esporte, a proporção de medalhas de ouro, prata e bronze que nosso país já consquistou.\n",
    "\n",
    "**Facilitador:** Se preferir, mostre as proporções apenas para os 6 esportes que tiveram mais medalhas.  \n",
    "\n",
    "*DICA:* Cuidado! Esportes em equipe dão medalhas a todos os jogadores, mas só contabilizam uma vez!"
   ]
  },
  {
   "cell_type": "code",
   "execution_count": 25,
   "id": "b15682cd",
   "metadata": {},
   "outputs": [
    {
     "name": "stderr",
     "output_type": "stream",
     "text": [
      "/tmp/ipykernel_49646/2958671212.py:3: SettingWithCopyWarning: \n",
      "A value is trying to be set on a copy of a slice from a DataFrame.\n",
      "Try using .loc[row_indexer,col_indexer] = value instead\n",
      "\n",
      "See the caveats in the documentation: https://pandas.pydata.org/pandas-docs/stable/user_guide/indexing.html#returning-a-view-versus-a-copy\n",
      "  br_df['Medal'] = br_df['Medal'].fillna(0)\n",
      "/tmp/ipykernel_49646/2958671212.py:4: SettingWithCopyWarning: \n",
      "A value is trying to be set on a copy of a slice from a DataFrame.\n",
      "Try using .loc[row_indexer,col_indexer] = value instead\n",
      "\n",
      "See the caveats in the documentation: https://pandas.pydata.org/pandas-docs/stable/user_guide/indexing.html#returning-a-view-versus-a-copy\n",
      "  br_df['Medal'] = br_df['Medal'].replace({0: 0, 'Bronze': 1, 'Silver': 2, 'Gold': 3})\n",
      "/tmp/ipykernel_49646/2958671212.py:5: SettingWithCopyWarning: \n",
      "A value is trying to be set on a copy of a slice from a DataFrame.\n",
      "Try using .loc[row_indexer,col_indexer] = value instead\n",
      "\n",
      "See the caveats in the documentation: https://pandas.pydata.org/pandas-docs/stable/user_guide/indexing.html#returning-a-view-versus-a-copy\n",
      "  br_df['Medal'] = pd.Categorical(br_df['Medal'], [0, 1, 2, 3], ordered=True)\n"
     ]
    }
   ],
   "source": [
    "# Categorizando a coluna Medal\n",
    "\n",
    "br_df['Medal'] = br_df['Medal'].fillna(0)\n",
    "br_df['Medal'] = br_df['Medal'].replace({0: 0, 'Bronze': 1, 'Silver': 2, 'Gold': 3})\n",
    "br_df['Medal'] = pd.Categorical(br_df['Medal'], [0, 1, 2, 3], ordered=True)"
   ]
  },
  {
   "cell_type": "code",
   "execution_count": 26,
   "id": "f94db2af",
   "metadata": {},
   "outputs": [],
   "source": [
    "medalhistas = br_df[br_df['Medal'] != 0]"
   ]
  },
  {
   "cell_type": "code",
   "execution_count": 27,
   "id": "d6238f00",
   "metadata": {},
   "outputs": [
    {
     "data": {
      "text/html": [
       "<div>\n",
       "<style scoped>\n",
       "    .dataframe tbody tr th:only-of-type {\n",
       "        vertical-align: middle;\n",
       "    }\n",
       "\n",
       "    .dataframe tbody tr th {\n",
       "        vertical-align: top;\n",
       "    }\n",
       "\n",
       "    .dataframe thead th {\n",
       "        text-align: right;\n",
       "    }\n",
       "</style>\n",
       "<table border=\"1\" class=\"dataframe\">\n",
       "  <thead>\n",
       "    <tr style=\"text-align: right;\">\n",
       "      <th>Medal</th>\n",
       "      <th>1</th>\n",
       "      <th>2</th>\n",
       "      <th>3</th>\n",
       "    </tr>\n",
       "    <tr>\n",
       "      <th>Sport</th>\n",
       "      <th></th>\n",
       "      <th></th>\n",
       "      <th></th>\n",
       "    </tr>\n",
       "  </thead>\n",
       "  <tbody>\n",
       "    <tr>\n",
       "      <th>Athletics</th>\n",
       "      <td>14</td>\n",
       "      <td>7</td>\n",
       "      <td>5</td>\n",
       "    </tr>\n",
       "    <tr>\n",
       "      <th>Basketball</th>\n",
       "      <td>46</td>\n",
       "      <td>12</td>\n",
       "      <td>0</td>\n",
       "    </tr>\n",
       "    <tr>\n",
       "      <th>Beach Volleyball</th>\n",
       "      <td>6</td>\n",
       "      <td>14</td>\n",
       "      <td>6</td>\n",
       "    </tr>\n",
       "    <tr>\n",
       "      <th>Boxing</th>\n",
       "      <td>3</td>\n",
       "      <td>1</td>\n",
       "      <td>1</td>\n",
       "    </tr>\n",
       "    <tr>\n",
       "      <th>Canoeing</th>\n",
       "      <td>1</td>\n",
       "      <td>3</td>\n",
       "      <td>0</td>\n",
       "    </tr>\n",
       "    <tr>\n",
       "      <th>Equestrianism</th>\n",
       "      <td>8</td>\n",
       "      <td>0</td>\n",
       "      <td>1</td>\n",
       "    </tr>\n",
       "    <tr>\n",
       "      <th>Football</th>\n",
       "      <td>34</td>\n",
       "      <td>85</td>\n",
       "      <td>17</td>\n",
       "    </tr>\n",
       "    <tr>\n",
       "      <th>Gymnastics</th>\n",
       "      <td>1</td>\n",
       "      <td>2</td>\n",
       "      <td>1</td>\n",
       "    </tr>\n",
       "    <tr>\n",
       "      <th>Judo</th>\n",
       "      <td>15</td>\n",
       "      <td>3</td>\n",
       "      <td>4</td>\n",
       "    </tr>\n",
       "    <tr>\n",
       "      <th>Modern Pentathlon</th>\n",
       "      <td>1</td>\n",
       "      <td>0</td>\n",
       "      <td>0</td>\n",
       "    </tr>\n",
       "    <tr>\n",
       "      <th>Sailing</th>\n",
       "      <td>16</td>\n",
       "      <td>6</td>\n",
       "      <td>12</td>\n",
       "    </tr>\n",
       "    <tr>\n",
       "      <th>Shooting</th>\n",
       "      <td>5</td>\n",
       "      <td>2</td>\n",
       "      <td>1</td>\n",
       "    </tr>\n",
       "    <tr>\n",
       "      <th>Swimming</th>\n",
       "      <td>15</td>\n",
       "      <td>4</td>\n",
       "      <td>1</td>\n",
       "    </tr>\n",
       "    <tr>\n",
       "      <th>Taekwondo</th>\n",
       "      <td>2</td>\n",
       "      <td>0</td>\n",
       "      <td>0</td>\n",
       "    </tr>\n",
       "    <tr>\n",
       "      <th>Volleyball</th>\n",
       "      <td>24</td>\n",
       "      <td>36</td>\n",
       "      <td>60</td>\n",
       "    </tr>\n",
       "  </tbody>\n",
       "</table>\n",
       "</div>"
      ],
      "text/plain": [
       "Medal               1   2   3\n",
       "Sport                        \n",
       "Athletics          14   7   5\n",
       "Basketball         46  12   0\n",
       "Beach Volleyball    6  14   6\n",
       "Boxing              3   1   1\n",
       "Canoeing            1   3   0\n",
       "Equestrianism       8   0   1\n",
       "Football           34  85  17\n",
       "Gymnastics          1   2   1\n",
       "Judo               15   3   4\n",
       "Modern Pentathlon   1   0   0\n",
       "Sailing            16   6  12\n",
       "Shooting            5   2   1\n",
       "Swimming           15   4   1\n",
       "Taekwondo           2   0   0\n",
       "Volleyball         24  36  60"
      ]
     },
     "execution_count": 27,
     "metadata": {},
     "output_type": "execute_result"
    }
   ],
   "source": [
    "# Agrupando a quantidade de medalhas por tipo de medalha.\n",
    "\n",
    "medalhistas = medalhistas.groupby(['Sport', 'Medal']).Medal.count().unstack()\n",
    "medalhistas.loc[:,1:]"
   ]
  },
  {
   "cell_type": "code",
   "execution_count": 28,
   "id": "330372be",
   "metadata": {},
   "outputs": [],
   "source": [
    "# Criando a proporção de cada categoria de medalha em relação ao total de medalhas da modalidade esportiva\n",
    "prop = round(medalhistas.div(medalhistas.sum(axis=1), axis=0), 2)"
   ]
  },
  {
   "cell_type": "code",
   "execution_count": 29,
   "id": "d8f6615a",
   "metadata": {},
   "outputs": [
    {
     "data": {
      "image/png": "[encoded data removed]",
      "text/plain": [
       "<Figure size 1080x720 with 4 Axes>"
      ]
     },
     "metadata": {
      "needs_background": "light"
     },
     "output_type": "display_data"
    }
   ],
   "source": [
    "f, (ax1, ax2) = plt.subplots(1, 2, figsize=(15, 10))\n",
    "\n",
    "ax1 = sns.heatmap(medalhistas.loc[:,1:], linewidths=2, ax=ax1, cmap='viridis_r', \n",
    "                  square=True, cbar=True)\n",
    "\n",
    "ax1.set_xticks(ticks = [0.5, 1.5, 2.5], labels=['Bronze', 'Prata', 'Ouro'])\n",
    "ax1.set_xlabel('Medalhas', size=15)\n",
    "ax1.set_ylabel('Modalidade', size=15)\n",
    "ax1.set_title('Total de Medalhas\\n', size=22)\n",
    "\n",
    "\n",
    "ax2 = sns.heatmap(prop.loc[:,1:], linewidths=.5, ax=ax2, cmap='viridis_r', \n",
    "                  square=True, cbar=False, annot=True, annot_kws={\"fontsize\":9})\n",
    "\n",
    "cbar2 = ax2.figure.colorbar(ax2.collections[0])\n",
    "cbar2.set_ticks([0, 1])\n",
    "cbar2.set_ticklabels([\"0%\", \"100%\"])\n",
    "\n",
    "ax2.set_xticks(ticks = [0.5, 1.5, 2.5], labels=['Bronze', 'Prata', 'Ouro'])\n",
    "ax2.set_xlabel('Medalhas', size=15)\n",
    "ax2.set_ylabel('Modalidade', size=15)\n",
    "ax2.set_title('Proporção de Medalhas por Modalidade\\n', size=22)\n",
    "for t in ax2.texts: t.set_text(str(int(float(t.get_text())*100)) + \"%\")\n",
    "\n",
    "plt.show()\n",
    "\n",
    "# obs: se estiver estranho com as anotações, mudar annot para False"
   ]
  },
  {
   "cell_type": "markdown",
   "id": "8117b745",
   "metadata": {
    "id": "8117b745"
   },
   "source": [
    "**4. Para finalizar a história do Brasil, vamos ver a série temporal de medalhas brasileiras.**\n",
    "\n",
    "Crie um gráfico de sua escolha, que mostre o total de medalhas de ouro, prata e bronze, por edição da olimpíada (em ordem cronológica). \n",
    "\n",
    "*DICA:* Mais uma vez, tome cuidado com os esportes em grupo - os contabilize apenas uma vez!"
   ]
  },
  {
   "cell_type": "markdown",
   "id": "8d11b12e",
   "metadata": {},
   "source": [
    "Mais uma vez, vamos apenas usar as olimpíadas de verão porque o Brasil não tem presença significativa nas olimpíadas de inverno para tornar estes dados relevantes à análise:"
   ]
  },
  {
   "cell_type": "markdown",
   "id": "3a41e4ad",
   "metadata": {},
   "source": [
    "Filtrando o dataframe para não haver valores repetidos:"
   ]
  },
  {
   "cell_type": "code",
   "execution_count": 49,
   "id": "af282d67",
   "metadata": {},
   "outputs": [
    {
     "name": "stderr",
     "output_type": "stream",
     "text": [
      "/tmp/ipykernel_49646/519182673.py:3: SettingWithCopyWarning: \n",
      "A value is trying to be set on a copy of a slice from a DataFrame.\n",
      "Try using .loc[row_indexer,col_indexer] = value instead\n",
      "\n",
      "See the caveats in the documentation: https://pandas.pydata.org/pandas-docs/stable/user_guide/indexing.html#returning-a-view-versus-a-copy\n",
      "  filtered_df['Medal'] = filtered_df['Medal'].replace({0:None, 1:'Bronze', 2:'Silver', 3:'Gold'})\n"
     ]
    }
   ],
   "source": [
    "filtered_df = br_df.drop_duplicates(subset=['Year', 'Event'], keep='first')\n",
    "\n",
    "filtered_df['Medal'] = filtered_df['Medal'].replace({0:None, 1:'Bronze', 2:'Silver', 3:'Gold'})\n",
    "\n",
    "filtered_df = filtered_df[filtered_df['Medal'].notna()]"
   ]
  },
  {
   "cell_type": "code",
   "execution_count": 50,
   "id": "641a3553",
   "metadata": {},
   "outputs": [
    {
     "data": {
      "text/html": [
       "<div>\n",
       "<style scoped>\n",
       "    .dataframe tbody tr th:only-of-type {\n",
       "        vertical-align: middle;\n",
       "    }\n",
       "\n",
       "    .dataframe tbody tr th {\n",
       "        vertical-align: top;\n",
       "    }\n",
       "\n",
       "    .dataframe thead th {\n",
       "        text-align: right;\n",
       "    }\n",
       "</style>\n",
       "<table border=\"1\" class=\"dataframe\">\n",
       "  <thead>\n",
       "    <tr style=\"text-align: right;\">\n",
       "      <th></th>\n",
       "      <th>ID</th>\n",
       "      <th>Name</th>\n",
       "      <th>Sex</th>\n",
       "      <th>Age</th>\n",
       "      <th>Height</th>\n",
       "      <th>Weight</th>\n",
       "      <th>Team</th>\n",
       "      <th>NOC</th>\n",
       "      <th>Games</th>\n",
       "      <th>Year</th>\n",
       "      <th>Season</th>\n",
       "      <th>City</th>\n",
       "      <th>Sport</th>\n",
       "      <th>Event</th>\n",
       "      <th>Medal</th>\n",
       "      <th>Medalist</th>\n",
       "    </tr>\n",
       "  </thead>\n",
       "  <tbody>\n",
       "    <tr>\n",
       "      <th>1651</th>\n",
       "      <td>918</td>\n",
       "      <td>Ademir Roque Kaefer</td>\n",
       "      <td>M</td>\n",
       "      <td>24.0</td>\n",
       "      <td>179.0</td>\n",
       "      <td>74.0</td>\n",
       "      <td>Brazil</td>\n",
       "      <td>BRA</td>\n",
       "      <td>1984 Summer</td>\n",
       "      <td>1984</td>\n",
       "      <td>Summer</td>\n",
       "      <td>Los Angeles</td>\n",
       "      <td>Football</td>\n",
       "      <td>Football Men's Football</td>\n",
       "      <td>Silver</td>\n",
       "      <td>Sim</td>\n",
       "    </tr>\n",
       "    <tr>\n",
       "      <th>1652</th>\n",
       "      <td>918</td>\n",
       "      <td>Ademir Roque Kaefer</td>\n",
       "      <td>M</td>\n",
       "      <td>28.0</td>\n",
       "      <td>179.0</td>\n",
       "      <td>74.0</td>\n",
       "      <td>Brazil</td>\n",
       "      <td>BRA</td>\n",
       "      <td>1988 Summer</td>\n",
       "      <td>1988</td>\n",
       "      <td>Summer</td>\n",
       "      <td>Seoul</td>\n",
       "      <td>Football</td>\n",
       "      <td>Football Men's Football</td>\n",
       "      <td>Silver</td>\n",
       "      <td>Sim</td>\n",
       "    </tr>\n",
       "    <tr>\n",
       "      <th>1668</th>\n",
       "      <td>925</td>\n",
       "      <td>Adenzia Aparecida Ferreira da Silva</td>\n",
       "      <td>F</td>\n",
       "      <td>25.0</td>\n",
       "      <td>187.0</td>\n",
       "      <td>65.0</td>\n",
       "      <td>Brazil</td>\n",
       "      <td>BRA</td>\n",
       "      <td>2012 Summer</td>\n",
       "      <td>2012</td>\n",
       "      <td>Summer</td>\n",
       "      <td>London</td>\n",
       "      <td>Volleyball</td>\n",
       "      <td>Volleyball Women's Volleyball</td>\n",
       "      <td>Gold</td>\n",
       "      <td>Sim</td>\n",
       "    </tr>\n",
       "    <tr>\n",
       "      <th>1733</th>\n",
       "      <td>966</td>\n",
       "      <td>Daniel Adler</td>\n",
       "      <td>M</td>\n",
       "      <td>26.0</td>\n",
       "      <td>180.0</td>\n",
       "      <td>72.0</td>\n",
       "      <td>Brazil</td>\n",
       "      <td>BRA</td>\n",
       "      <td>1984 Summer</td>\n",
       "      <td>1984</td>\n",
       "      <td>Summer</td>\n",
       "      <td>Los Angeles</td>\n",
       "      <td>Sailing</td>\n",
       "      <td>Sailing Mixed Three Person Keelboat</td>\n",
       "      <td>Silver</td>\n",
       "      <td>Sim</td>\n",
       "    </tr>\n",
       "    <tr>\n",
       "      <th>1856</th>\n",
       "      <td>1020</td>\n",
       "      <td>Adriana Aparecida dos Santos</td>\n",
       "      <td>F</td>\n",
       "      <td>25.0</td>\n",
       "      <td>180.0</td>\n",
       "      <td>61.0</td>\n",
       "      <td>Brazil</td>\n",
       "      <td>BRA</td>\n",
       "      <td>1996 Summer</td>\n",
       "      <td>1996</td>\n",
       "      <td>Summer</td>\n",
       "      <td>Atlanta</td>\n",
       "      <td>Basketball</td>\n",
       "      <td>Basketball Women's Basketball</td>\n",
       "      <td>Silver</td>\n",
       "      <td>Sim</td>\n",
       "    </tr>\n",
       "    <tr>\n",
       "      <th>...</th>\n",
       "      <td>...</td>\n",
       "      <td>...</td>\n",
       "      <td>...</td>\n",
       "      <td>...</td>\n",
       "      <td>...</td>\n",
       "      <td>...</td>\n",
       "      <td>...</td>\n",
       "      <td>...</td>\n",
       "      <td>...</td>\n",
       "      <td>...</td>\n",
       "      <td>...</td>\n",
       "      <td>...</td>\n",
       "      <td>...</td>\n",
       "      <td>...</td>\n",
       "      <td>...</td>\n",
       "      <td>...</td>\n",
       "    </tr>\n",
       "    <tr>\n",
       "      <th>212473</th>\n",
       "      <td>106683</td>\n",
       "      <td>Robert Scheidt</td>\n",
       "      <td>M</td>\n",
       "      <td>27.0</td>\n",
       "      <td>188.0</td>\n",
       "      <td>76.0</td>\n",
       "      <td>Brazil</td>\n",
       "      <td>BRA</td>\n",
       "      <td>2000 Summer</td>\n",
       "      <td>2000</td>\n",
       "      <td>Summer</td>\n",
       "      <td>Sydney</td>\n",
       "      <td>Sailing</td>\n",
       "      <td>Sailing Mixed One Person Dinghy</td>\n",
       "      <td>Silver</td>\n",
       "      <td>Sim</td>\n",
       "    </tr>\n",
       "    <tr>\n",
       "      <th>212474</th>\n",
       "      <td>106683</td>\n",
       "      <td>Robert Scheidt</td>\n",
       "      <td>M</td>\n",
       "      <td>31.0</td>\n",
       "      <td>188.0</td>\n",
       "      <td>76.0</td>\n",
       "      <td>Brazil</td>\n",
       "      <td>BRA</td>\n",
       "      <td>2004 Summer</td>\n",
       "      <td>2004</td>\n",
       "      <td>Summer</td>\n",
       "      <td>Athina</td>\n",
       "      <td>Sailing</td>\n",
       "      <td>Sailing Mixed One Person Dinghy</td>\n",
       "      <td>Gold</td>\n",
       "      <td>Sim</td>\n",
       "    </tr>\n",
       "    <tr>\n",
       "      <th>220065</th>\n",
       "      <td>110549</td>\n",
       "      <td>Rafaela Lopes Silva</td>\n",
       "      <td>F</td>\n",
       "      <td>24.0</td>\n",
       "      <td>169.0</td>\n",
       "      <td>57.0</td>\n",
       "      <td>Brazil</td>\n",
       "      <td>BRA</td>\n",
       "      <td>2016 Summer</td>\n",
       "      <td>2016</td>\n",
       "      <td>Summer</td>\n",
       "      <td>Rio de Janeiro</td>\n",
       "      <td>Judo</td>\n",
       "      <td>Judo Women's Lightweight</td>\n",
       "      <td>Gold</td>\n",
       "      <td>Sim</td>\n",
       "    </tr>\n",
       "    <tr>\n",
       "      <th>221565</th>\n",
       "      <td>111358</td>\n",
       "      <td>Maicon de Andrade Siqueira</td>\n",
       "      <td>M</td>\n",
       "      <td>23.0</td>\n",
       "      <td>190.0</td>\n",
       "      <td>90.0</td>\n",
       "      <td>Brazil</td>\n",
       "      <td>BRA</td>\n",
       "      <td>2016 Summer</td>\n",
       "      <td>2016</td>\n",
       "      <td>Summer</td>\n",
       "      <td>Rio de Janeiro</td>\n",
       "      <td>Taekwondo</td>\n",
       "      <td>Taekwondo Men's Heavyweight</td>\n",
       "      <td>Bronze</td>\n",
       "      <td>Sim</td>\n",
       "    </tr>\n",
       "    <tr>\n",
       "      <th>252454</th>\n",
       "      <td>126422</td>\n",
       "      <td>Douglas Eduardo Vieira</td>\n",
       "      <td>M</td>\n",
       "      <td>24.0</td>\n",
       "      <td>170.0</td>\n",
       "      <td>95.0</td>\n",
       "      <td>Brazil</td>\n",
       "      <td>BRA</td>\n",
       "      <td>1984 Summer</td>\n",
       "      <td>1984</td>\n",
       "      <td>Summer</td>\n",
       "      <td>Los Angeles</td>\n",
       "      <td>Judo</td>\n",
       "      <td>Judo Men's Half-Heavyweight</td>\n",
       "      <td>Silver</td>\n",
       "      <td>Sim</td>\n",
       "    </tr>\n",
       "  </tbody>\n",
       "</table>\n",
       "<p>106 rows × 16 columns</p>\n",
       "</div>"
      ],
      "text/plain": [
       "            ID                                 Name Sex   Age  Height  Weight  \\\n",
       "1651       918                  Ademir Roque Kaefer   M  24.0   179.0    74.0   \n",
       "1652       918                  Ademir Roque Kaefer   M  28.0   179.0    74.0   \n",
       "1668       925  Adenzia Aparecida Ferreira da Silva   F  25.0   187.0    65.0   \n",
       "1733       966                         Daniel Adler   M  26.0   180.0    72.0   \n",
       "1856      1020         Adriana Aparecida dos Santos   F  25.0   180.0    61.0   \n",
       "...        ...                                  ...  ..   ...     ...     ...   \n",
       "212473  106683                       Robert Scheidt   M  27.0   188.0    76.0   \n",
       "212474  106683                       Robert Scheidt   M  31.0   188.0    76.0   \n",
       "220065  110549                  Rafaela Lopes Silva   F  24.0   169.0    57.0   \n",
       "221565  111358           Maicon de Andrade Siqueira   M  23.0   190.0    90.0   \n",
       "252454  126422               Douglas Eduardo Vieira   M  24.0   170.0    95.0   \n",
       "\n",
       "          Team  NOC        Games  Year  Season            City       Sport  \\\n",
       "1651    Brazil  BRA  1984 Summer  1984  Summer     Los Angeles    Football   \n",
       "1652    Brazil  BRA  1988 Summer  1988  Summer           Seoul    Football   \n",
       "1668    Brazil  BRA  2012 Summer  2012  Summer          London  Volleyball   \n",
       "1733    Brazil  BRA  1984 Summer  1984  Summer     Los Angeles     Sailing   \n",
       "1856    Brazil  BRA  1996 Summer  1996  Summer         Atlanta  Basketball   \n",
       "...        ...  ...          ...   ...     ...             ...         ...   \n",
       "212473  Brazil  BRA  2000 Summer  2000  Summer          Sydney     Sailing   \n",
       "212474  Brazil  BRA  2004 Summer  2004  Summer          Athina     Sailing   \n",
       "220065  Brazil  BRA  2016 Summer  2016  Summer  Rio de Janeiro        Judo   \n",
       "221565  Brazil  BRA  2016 Summer  2016  Summer  Rio de Janeiro   Taekwondo   \n",
       "252454  Brazil  BRA  1984 Summer  1984  Summer     Los Angeles        Judo   \n",
       "\n",
       "                                      Event   Medal Medalist  \n",
       "1651                Football Men's Football  Silver      Sim  \n",
       "1652                Football Men's Football  Silver      Sim  \n",
       "1668          Volleyball Women's Volleyball    Gold      Sim  \n",
       "1733    Sailing Mixed Three Person Keelboat  Silver      Sim  \n",
       "1856          Basketball Women's Basketball  Silver      Sim  \n",
       "...                                     ...     ...      ...  \n",
       "212473      Sailing Mixed One Person Dinghy  Silver      Sim  \n",
       "212474      Sailing Mixed One Person Dinghy    Gold      Sim  \n",
       "220065             Judo Women's Lightweight    Gold      Sim  \n",
       "221565          Taekwondo Men's Heavyweight  Bronze      Sim  \n",
       "252454          Judo Men's Half-Heavyweight  Silver      Sim  \n",
       "\n",
       "[106 rows x 16 columns]"
      ]
     },
     "execution_count": 50,
     "metadata": {},
     "output_type": "execute_result"
    }
   ],
   "source": [
    "filtered_df"
   ]
  },
  {
   "cell_type": "markdown",
   "id": "f47f8972",
   "metadata": {},
   "source": [
    "Conferindo:"
   ]
  },
  {
   "cell_type": "code",
   "execution_count": 51,
   "id": "05641760",
   "metadata": {},
   "outputs": [
    {
     "data": {
      "text/plain": [
       "Bronze    56\n",
       "Silver    28\n",
       "Gold      22\n",
       "Name: Medal, dtype: int64"
      ]
     },
     "execution_count": 51,
     "metadata": {},
     "output_type": "execute_result"
    }
   ],
   "source": [
    "filtered_df['Medal'].value_counts()"
   ]
  },
  {
   "cell_type": "code",
   "execution_count": 52,
   "id": "d6605480",
   "metadata": {
    "id": "d6605480"
   },
   "outputs": [],
   "source": [
    "medalhas_ouro = filtered_df[['Year', 'Medal']][(filtered_df['Medal'] == 'Gold') & (filtered_df['Season'] == 'Summer')]\n",
    "\n",
    "medalhas_prata = filtered_df[['Year','Medal']][(filtered_df['Medal'] == 'Silver') & (filtered_df['Season'] == 'Summer')]\n",
    "\n",
    "medalhas_bronze = filtered_df[['Year','Medal']][(filtered_df['Medal'] == 'Bronze') & (filtered_df['Season'] == 'Summer')]"
   ]
  },
  {
   "cell_type": "markdown",
   "id": "321b97e7",
   "metadata": {},
   "source": [
    "Criando os valores temporais para as séries das medalhas:"
   ]
  },
  {
   "cell_type": "code",
   "execution_count": 53,
   "id": "0ff490f3",
   "metadata": {},
   "outputs": [],
   "source": [
    "serie_ouro = medalhas_ouro['Year'].value_counts().reset_index(name = 'gold_medals')\n",
    "serie_prata = medalhas_prata['Year'].value_counts().reset_index(name = 'silver_medals')\n",
    "serie_bronze = medalhas_bronze['Year'].value_counts().reset_index(name = 'bronze_medals')"
   ]
  },
  {
   "cell_type": "code",
   "execution_count": 54,
   "id": "5f8193e9",
   "metadata": {},
   "outputs": [
    {
     "data": {
      "image/png": "[encoded data removed]",
      "text/plain": [
       "<Figure size 1800x720 with 1 Axes>"
      ]
     },
     "metadata": {},
     "output_type": "display_data"
    }
   ],
   "source": [
    "plt.figure(figsize=(25,10))\n",
    "sns.set_theme(palette=['gold', 'silver', 'brown'])\n",
    "sns.set_context(\"notebook\", font_scale=1.5, rc={\"lines.linewidth\": 2.5})\n",
    "\n",
    "sns.lineplot(x='index', \n",
    "             y='gold_medals', \n",
    "             legend='full', \n",
    "             label='ouros',  \n",
    "             data=serie_ouro)\n",
    "sns.lineplot(x='index', \n",
    "             y='silver_medals', \n",
    "             legend='full', \n",
    "             label='pratas',  \n",
    "             data=serie_prata)\n",
    "sns.lineplot(x='index', \n",
    "             y='bronze_medals', \n",
    "             legend='full', \n",
    "             label='bronzes', \n",
    "             data=serie_bronze)\n",
    "\n",
    "plt.title('Medalhas Olímpicas Conquistadas pelo Brasil na História das Olimpíadas')\n",
    "plt.xlabel('Ano')\n",
    "plt.ylabel('Contagem de Medalhas')\n",
    "plt.show()"
   ]
  },
  {
   "cell_type": "markdown",
   "id": "6c4125a7",
   "metadata": {},
   "source": [
    "Como podemos ver, desde 1920, o Brasil ganha pelo menos uma medalha de bronze por olimpíada, atingindo um patamar em 2016. Medalhas de prata são incosistentes - com pico se vales, mas nunca ultrapassando o máximo de cinco metalhas. Felizmente, as medalhas de ouro vem em uma tendência crescento positiva, sendo o desempenho mais recente o melhor do país desde todas as outras edições."
   ]
  },
  {
   "cell_type": "markdown",
   "id": "ea0aa7d0",
   "metadata": {
    "id": "ea0aa7d0"
   },
   "source": [
    "**5. Agora é com vocês!** \n",
    "\n",
    "Escolha uma análise visual que julga interessante de fazer neste conjunto de dados, faça o(s) gráficos(s) necessários e comente os resultados. "
   ]
  },
  {
   "cell_type": "markdown",
   "id": "a5859cad",
   "metadata": {},
   "source": [
    "Distribuição de medalhas de ouro por país:"
   ]
  },
  {
   "cell_type": "code",
   "execution_count": 35,
   "id": "5becb8dd",
   "metadata": {
    "id": "5becb8dd"
   },
   "outputs": [
    {
     "data": {
      "text/html": [
       "<div>\n",
       "<style scoped>\n",
       "    .dataframe tbody tr th:only-of-type {\n",
       "        vertical-align: middle;\n",
       "    }\n",
       "\n",
       "    .dataframe tbody tr th {\n",
       "        vertical-align: top;\n",
       "    }\n",
       "\n",
       "    .dataframe thead th {\n",
       "        text-align: right;\n",
       "    }\n",
       "</style>\n",
       "<table border=\"1\" class=\"dataframe\">\n",
       "  <thead>\n",
       "    <tr style=\"text-align: right;\">\n",
       "      <th></th>\n",
       "      <th>index</th>\n",
       "      <th>Medal</th>\n",
       "    </tr>\n",
       "  </thead>\n",
       "  <tbody>\n",
       "    <tr>\n",
       "      <th>0</th>\n",
       "      <td>United States</td>\n",
       "      <td>2474</td>\n",
       "    </tr>\n",
       "    <tr>\n",
       "      <th>1</th>\n",
       "      <td>Soviet Union</td>\n",
       "      <td>1058</td>\n",
       "    </tr>\n",
       "    <tr>\n",
       "      <th>2</th>\n",
       "      <td>Germany</td>\n",
       "      <td>679</td>\n",
       "    </tr>\n",
       "    <tr>\n",
       "      <th>3</th>\n",
       "      <td>Italy</td>\n",
       "      <td>535</td>\n",
       "    </tr>\n",
       "    <tr>\n",
       "      <th>4</th>\n",
       "      <td>Great Britain</td>\n",
       "      <td>519</td>\n",
       "    </tr>\n",
       "    <tr>\n",
       "      <th>...</th>\n",
       "      <td>...</td>\n",
       "      <td>...</td>\n",
       "    </tr>\n",
       "    <tr>\n",
       "      <th>237</th>\n",
       "      <td>Israel</td>\n",
       "      <td>1</td>\n",
       "    </tr>\n",
       "    <tr>\n",
       "      <th>238</th>\n",
       "      <td>Carabinier-15</td>\n",
       "      <td>1</td>\n",
       "    </tr>\n",
       "    <tr>\n",
       "      <th>239</th>\n",
       "      <td>Mozambique</td>\n",
       "      <td>1</td>\n",
       "    </tr>\n",
       "    <tr>\n",
       "      <th>240</th>\n",
       "      <td>Belgium-1</td>\n",
       "      <td>1</td>\n",
       "    </tr>\n",
       "    <tr>\n",
       "      <th>241</th>\n",
       "      <td>Satchmo</td>\n",
       "      <td>1</td>\n",
       "    </tr>\n",
       "  </tbody>\n",
       "</table>\n",
       "<p>242 rows × 2 columns</p>\n",
       "</div>"
      ],
      "text/plain": [
       "             index  Medal\n",
       "0    United States   2474\n",
       "1     Soviet Union   1058\n",
       "2          Germany    679\n",
       "3            Italy    535\n",
       "4    Great Britain    519\n",
       "..             ...    ...\n",
       "237         Israel      1\n",
       "238  Carabinier-15      1\n",
       "239     Mozambique      1\n",
       "240      Belgium-1      1\n",
       "241        Satchmo      1\n",
       "\n",
       "[242 rows x 2 columns]"
      ]
     },
     "execution_count": 35,
     "metadata": {},
     "output_type": "execute_result"
    }
   ],
   "source": [
    "gmedal_country = dataset[(dataset['Medal'] == 'Gold')]\n",
    "\n",
    "total_gmedal = gmedal_country['Team'].value_counts().reset_index(name = 'Medal')\n",
    "\n",
    "total_gmedal"
   ]
  },
  {
   "cell_type": "markdown",
   "id": "6792d0ac",
   "metadata": {},
   "source": [
    "Como há muitos países com resultados insignificantes, vamos ficar com os que tem mais de 300 medalhas apenas:"
   ]
  },
  {
   "cell_type": "code",
   "execution_count": 36,
   "id": "5f220673",
   "metadata": {},
   "outputs": [
    {
     "data": {
      "text/html": [
       "<div>\n",
       "<style scoped>\n",
       "    .dataframe tbody tr th:only-of-type {\n",
       "        vertical-align: middle;\n",
       "    }\n",
       "\n",
       "    .dataframe tbody tr th {\n",
       "        vertical-align: top;\n",
       "    }\n",
       "\n",
       "    .dataframe thead th {\n",
       "        text-align: right;\n",
       "    }\n",
       "</style>\n",
       "<table border=\"1\" class=\"dataframe\">\n",
       "  <thead>\n",
       "    <tr style=\"text-align: right;\">\n",
       "      <th></th>\n",
       "      <th>index</th>\n",
       "      <th>Medal</th>\n",
       "    </tr>\n",
       "  </thead>\n",
       "  <tbody>\n",
       "    <tr>\n",
       "      <th>0</th>\n",
       "      <td>United States</td>\n",
       "      <td>2474</td>\n",
       "    </tr>\n",
       "    <tr>\n",
       "      <th>1</th>\n",
       "      <td>Soviet Union</td>\n",
       "      <td>1058</td>\n",
       "    </tr>\n",
       "    <tr>\n",
       "      <th>2</th>\n",
       "      <td>Germany</td>\n",
       "      <td>679</td>\n",
       "    </tr>\n",
       "    <tr>\n",
       "      <th>3</th>\n",
       "      <td>Italy</td>\n",
       "      <td>535</td>\n",
       "    </tr>\n",
       "    <tr>\n",
       "      <th>4</th>\n",
       "      <td>Great Britain</td>\n",
       "      <td>519</td>\n",
       "    </tr>\n",
       "    <tr>\n",
       "      <th>5</th>\n",
       "      <td>France</td>\n",
       "      <td>455</td>\n",
       "    </tr>\n",
       "    <tr>\n",
       "      <th>6</th>\n",
       "      <td>Sweden</td>\n",
       "      <td>451</td>\n",
       "    </tr>\n",
       "    <tr>\n",
       "      <th>7</th>\n",
       "      <td>Hungary</td>\n",
       "      <td>432</td>\n",
       "    </tr>\n",
       "    <tr>\n",
       "      <th>8</th>\n",
       "      <td>Canada</td>\n",
       "      <td>422</td>\n",
       "    </tr>\n",
       "    <tr>\n",
       "      <th>9</th>\n",
       "      <td>East Germany</td>\n",
       "      <td>369</td>\n",
       "    </tr>\n",
       "    <tr>\n",
       "      <th>10</th>\n",
       "      <td>Russia</td>\n",
       "      <td>366</td>\n",
       "    </tr>\n",
       "    <tr>\n",
       "      <th>11</th>\n",
       "      <td>Australia</td>\n",
       "      <td>342</td>\n",
       "    </tr>\n",
       "    <tr>\n",
       "      <th>12</th>\n",
       "      <td>China</td>\n",
       "      <td>308</td>\n",
       "    </tr>\n",
       "  </tbody>\n",
       "</table>\n",
       "</div>"
      ],
      "text/plain": [
       "            index  Medal\n",
       "0   United States   2474\n",
       "1    Soviet Union   1058\n",
       "2         Germany    679\n",
       "3           Italy    535\n",
       "4   Great Britain    519\n",
       "5          France    455\n",
       "6          Sweden    451\n",
       "7         Hungary    432\n",
       "8          Canada    422\n",
       "9    East Germany    369\n",
       "10         Russia    366\n",
       "11      Australia    342\n",
       "12          China    308"
      ]
     },
     "execution_count": 36,
     "metadata": {},
     "output_type": "execute_result"
    }
   ],
   "source": [
    "three_hundo_medal_club = total_gmedal[(total_gmedal['Medal'] >= 300)]\n",
    "\n",
    "three_hundo_medal_club"
   ]
  },
  {
   "cell_type": "code",
   "execution_count": 37,
   "id": "51aa14c7",
   "metadata": {},
   "outputs": [
    {
     "data": {
      "image/png": "[encoded data removed]",
      "text/plain": [
       "<Figure size 1080x576 with 1 Axes>"
      ]
     },
     "metadata": {},
     "output_type": "display_data"
    }
   ],
   "source": [
    "most_medals_plot = sns.catplot(data=three_hundo_medal_club, \n",
    "                 x='index', \n",
    "                 y='Medal', \n",
    "                 kind='bar', \n",
    "                 height=8, aspect=15/8)\n",
    "\n",
    "most_medals_plot.set(xlabel='Países',\n",
    "       ylabel='Número de Medalhas', \n",
    "       title='Países com Ao Menos 100 Medalhas Olímpicas', \n",
    "       )\n",
    "\n",
    "plt.xticks(rotation=45);"
   ]
  },
  {
   "cell_type": "markdown",
   "id": "6a9b3a28",
   "metadata": {},
   "source": [
    "Observação: considerando o desempenho olímpico recente da República Popular da China, tem-se a impressão que este dataset não está atualizado."
   ]
  },
  {
   "cell_type": "markdown",
   "id": "8150e804",
   "metadata": {},
   "source": [
    "Uma outra análise visual interessante é ver o aumento de medalhas nas categorias femininas ao longo dos anos."
   ]
  },
  {
   "cell_type": "code",
   "execution_count": 38,
   "id": "ea0ae221",
   "metadata": {},
   "outputs": [
    {
     "data": {
      "text/html": [
       "<div>\n",
       "<style scoped>\n",
       "    .dataframe tbody tr th:only-of-type {\n",
       "        vertical-align: middle;\n",
       "    }\n",
       "\n",
       "    .dataframe tbody tr th {\n",
       "        vertical-align: top;\n",
       "    }\n",
       "\n",
       "    .dataframe thead th {\n",
       "        text-align: right;\n",
       "    }\n",
       "</style>\n",
       "<table border=\"1\" class=\"dataframe\">\n",
       "  <thead>\n",
       "    <tr style=\"text-align: right;\">\n",
       "      <th></th>\n",
       "      <th>ID</th>\n",
       "      <th>Name</th>\n",
       "      <th>Sex</th>\n",
       "      <th>Age</th>\n",
       "      <th>Height</th>\n",
       "      <th>Weight</th>\n",
       "      <th>Team</th>\n",
       "      <th>NOC</th>\n",
       "      <th>Games</th>\n",
       "      <th>Year</th>\n",
       "      <th>Season</th>\n",
       "      <th>City</th>\n",
       "      <th>Sport</th>\n",
       "      <th>Event</th>\n",
       "      <th>Medal</th>\n",
       "    </tr>\n",
       "  </thead>\n",
       "  <tbody>\n",
       "    <tr>\n",
       "      <th>26</th>\n",
       "      <td>8</td>\n",
       "      <td>Cornelia \"Cor\" Aalten (-Strannood)</td>\n",
       "      <td>F</td>\n",
       "      <td>18.0</td>\n",
       "      <td>168.0</td>\n",
       "      <td>NaN</td>\n",
       "      <td>Netherlands</td>\n",
       "      <td>NED</td>\n",
       "      <td>1932 Summer</td>\n",
       "      <td>1932</td>\n",
       "      <td>Summer</td>\n",
       "      <td>Los Angeles</td>\n",
       "      <td>Athletics</td>\n",
       "      <td>Athletics Women's 100 metres</td>\n",
       "      <td>NaN</td>\n",
       "    </tr>\n",
       "    <tr>\n",
       "      <th>27</th>\n",
       "      <td>8</td>\n",
       "      <td>Cornelia \"Cor\" Aalten (-Strannood)</td>\n",
       "      <td>F</td>\n",
       "      <td>18.0</td>\n",
       "      <td>168.0</td>\n",
       "      <td>NaN</td>\n",
       "      <td>Netherlands</td>\n",
       "      <td>NED</td>\n",
       "      <td>1932 Summer</td>\n",
       "      <td>1932</td>\n",
       "      <td>Summer</td>\n",
       "      <td>Los Angeles</td>\n",
       "      <td>Athletics</td>\n",
       "      <td>Athletics Women's 4 x 100 metres Relay</td>\n",
       "      <td>NaN</td>\n",
       "    </tr>\n",
       "    <tr>\n",
       "      <th>32</th>\n",
       "      <td>13</td>\n",
       "      <td>Minna Maarit Aalto</td>\n",
       "      <td>F</td>\n",
       "      <td>30.0</td>\n",
       "      <td>159.0</td>\n",
       "      <td>55.5</td>\n",
       "      <td>Finland</td>\n",
       "      <td>FIN</td>\n",
       "      <td>1996 Summer</td>\n",
       "      <td>1996</td>\n",
       "      <td>Summer</td>\n",
       "      <td>Atlanta</td>\n",
       "      <td>Sailing</td>\n",
       "      <td>Sailing Women's Windsurfer</td>\n",
       "      <td>NaN</td>\n",
       "    </tr>\n",
       "    <tr>\n",
       "      <th>33</th>\n",
       "      <td>13</td>\n",
       "      <td>Minna Maarit Aalto</td>\n",
       "      <td>F</td>\n",
       "      <td>34.0</td>\n",
       "      <td>159.0</td>\n",
       "      <td>55.5</td>\n",
       "      <td>Finland</td>\n",
       "      <td>FIN</td>\n",
       "      <td>2000 Summer</td>\n",
       "      <td>2000</td>\n",
       "      <td>Summer</td>\n",
       "      <td>Sydney</td>\n",
       "      <td>Sailing</td>\n",
       "      <td>Sailing Women's Windsurfer</td>\n",
       "      <td>NaN</td>\n",
       "    </tr>\n",
       "    <tr>\n",
       "      <th>79</th>\n",
       "      <td>21</td>\n",
       "      <td>Ragnhild Margrethe Aamodt</td>\n",
       "      <td>F</td>\n",
       "      <td>27.0</td>\n",
       "      <td>163.0</td>\n",
       "      <td>NaN</td>\n",
       "      <td>Norway</td>\n",
       "      <td>NOR</td>\n",
       "      <td>2008 Summer</td>\n",
       "      <td>2008</td>\n",
       "      <td>Summer</td>\n",
       "      <td>Beijing</td>\n",
       "      <td>Handball</td>\n",
       "      <td>Handball Women's Handball</td>\n",
       "      <td>Gold</td>\n",
       "    </tr>\n",
       "  </tbody>\n",
       "</table>\n",
       "</div>"
      ],
      "text/plain": [
       "    ID                                Name Sex   Age  Height  Weight  \\\n",
       "26   8  Cornelia \"Cor\" Aalten (-Strannood)   F  18.0   168.0     NaN   \n",
       "27   8  Cornelia \"Cor\" Aalten (-Strannood)   F  18.0   168.0     NaN   \n",
       "32  13                  Minna Maarit Aalto   F  30.0   159.0    55.5   \n",
       "33  13                  Minna Maarit Aalto   F  34.0   159.0    55.5   \n",
       "79  21           Ragnhild Margrethe Aamodt   F  27.0   163.0     NaN   \n",
       "\n",
       "           Team  NOC        Games  Year  Season         City      Sport  \\\n",
       "26  Netherlands  NED  1932 Summer  1932  Summer  Los Angeles  Athletics   \n",
       "27  Netherlands  NED  1932 Summer  1932  Summer  Los Angeles  Athletics   \n",
       "32      Finland  FIN  1996 Summer  1996  Summer      Atlanta    Sailing   \n",
       "33      Finland  FIN  2000 Summer  2000  Summer       Sydney    Sailing   \n",
       "79       Norway  NOR  2008 Summer  2008  Summer      Beijing   Handball   \n",
       "\n",
       "                                     Event Medal  \n",
       "26            Athletics Women's 100 metres   NaN  \n",
       "27  Athletics Women's 4 x 100 metres Relay   NaN  \n",
       "32              Sailing Women's Windsurfer   NaN  \n",
       "33              Sailing Women's Windsurfer   NaN  \n",
       "79               Handball Women's Handball  Gold  "
      ]
     },
     "execution_count": 38,
     "metadata": {},
     "output_type": "execute_result"
    }
   ],
   "source": [
    "women_medals = dataset[(dataset['Sex'] == 'F') & (dataset['Season'] == 'Summer')]\n",
    "\n",
    "women_medals.head()"
   ]
  },
  {
   "cell_type": "code",
   "execution_count": 39,
   "id": "8c6f4b8c",
   "metadata": {},
   "outputs": [
    {
     "data": {
      "image/png": "[encoded data removed]",
      "text/plain": [
       "<Figure size 1080x720 with 1 Axes>"
      ]
     },
     "metadata": {},
     "output_type": "display_data"
    }
   ],
   "source": [
    "plt.figure(figsize=(15,10))\n",
    "plt.title('Número de Medalhas Para Atletas Mulheres ao Longo do Tempo')\n",
    "plt.ylabel('Contagem Total')\n",
    "fem_olympics = sns.countplot(data=women_medals, x='Year')\n",
    "plt.show()"
   ]
  },
  {
   "cell_type": "markdown",
   "id": "70903026",
   "metadata": {},
   "source": [
    "Ao ver o crescimento incremental do número de medalhas por atletas mulheres ao longo do tempo, é evidente que a participação feminina nos jogos olímpicos é cada vez maior.\n",
    "\n",
    "Duas curiosidades: os mergulhos da contagem em 1956 e 1980 provavelmente foram causados pelos boicotes de alguns dos países que iriam aprticipar: \n",
    "* Em 1956, em Melbourne, devido so incidente no Canal de Suez e devido à invasão da Hungria pelos soviéticos (https://en.wikipedia.org/wiki/1956_Summer_Olympics#:~:text=Eight%20teams%20boycotted,citation(s)%20needed%5D).\n",
    "\n",
    "* Em 1980, devido à invasão soviética ao Afeganistão (https://en.wikipedia.org/wiki/1980_Summer_Olympics#:~:text=Led%20by%20the%20United%20States%2C%2066%20countries%20boycotted%20the%20games%20entirely%2C%20because%20of%20the%20Soviet%E2%80%93Afghan%20War.)\n"
   ]
  },
  {
   "cell_type": "markdown",
   "id": "db52df5c",
   "metadata": {},
   "source": [
    "Assim, podemos também verificar a proporção de participação de mulheres x homens ao longo do tempo. Para isso, vamos focar só nas olimpíadas de verão que tem um número mais significativo de atletas e que inclui mais países do mundo:"
   ]
  },
  {
   "cell_type": "code",
   "execution_count": 40,
   "id": "b182773c",
   "metadata": {},
   "outputs": [],
   "source": [
    "atletas_homens = dataset[['Year', 'Sex']][(dataset['Sex'] == 'M') & (dataset['Season'] == 'Summer')]\n",
    "\n",
    "atletas_mulheres = dataset[['Year','Sex']][(dataset['Sex'] == 'F') & (dataset['Season'] == 'Summer')]"
   ]
  },
  {
   "cell_type": "code",
   "execution_count": 41,
   "id": "045571a4",
   "metadata": {},
   "outputs": [],
   "source": [
    "series_1 = atletas_homens['Year'].value_counts().reset_index(name = 'contagem_masc')\n",
    "\n",
    "series_2 = atletas_mulheres['Year'].value_counts().reset_index(name = 'contagem_fem')"
   ]
  },
  {
   "cell_type": "code",
   "execution_count": 42,
   "id": "23f7e7de",
   "metadata": {},
   "outputs": [
    {
     "data": {
      "image/png": "[encoded data removed]",
      "text/plain": [
       "<Figure size 720x360 with 1 Axes>"
      ]
     },
     "metadata": {},
     "output_type": "display_data"
    }
   ],
   "source": [
    "plt.figure(figsize=(10,5))\n",
    "sns.set_theme(palette=['blue', 'fuchsia'])\n",
    "sns.lineplot(x='index', \n",
    "             y='contagem_masc', \n",
    "             legend='full', \n",
    "             label='Atletas Homens', \n",
    "             data=series_1)\n",
    "sns.lineplot(x='index', \n",
    "             y='contagem_fem', \n",
    "             legend='full', \n",
    "             label='Atletas Mulheres', \n",
    "             data=series_2)\n",
    "\n",
    "plt.title('Proproção de Atletas Homens e Atletas Mulheres ao Longo do Tempo')\n",
    "plt.xlabel('Ano')\n",
    "plt.ylabel('Contagem Homens x Mulheres')\n",
    "plt.show()"
   ]
  },
  {
   "cell_type": "markdown",
   "id": "c2d47b67",
   "metadata": {},
   "source": [
    "Como podemos ver, a proporção de homens é mais flutuante  ao longo do tempo, já a de mulheres é progressivamente maior."
   ]
  }
 ],
 "metadata": {
  "colab": {
   "name": "Projeto Final.ipynb",
   "provenance": []
  },
  "kernelspec": {
   "display_name": "Python 3 (ipykernel)",
   "language": "python",
   "name": "python3"
  },
  "language_info": {
   "codemirror_mode": {
    "name": "ipython",
    "version": 3
   },
   "file_extension": ".py",
   "mimetype": "text/x-python",
   "name": "python",
   "nbconvert_exporter": "python",
   "pygments_lexer": "ipython3",
   "version": "3.10.2"
  }
 },
 "nbformat": 4,
 "nbformat_minor": 5
}
